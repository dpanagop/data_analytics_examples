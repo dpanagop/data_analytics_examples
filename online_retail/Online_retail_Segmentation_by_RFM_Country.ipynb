{
  "nbformat": 4,
  "nbformat_minor": 0,
  "metadata": {
    "colab": {
      "name": " Online retail - Segmentation by RFM-Country.ipynb",
      "provenance": [],
      "collapsed_sections": [],
      "toc_visible": true,
      "authorship_tag": "ABX9TyMlnId4D/RNcZ+p8pn6ZjcQ",
      "include_colab_link": true
    },
    "kernelspec": {
      "name": "python3",
      "display_name": "Python 3"
    }
  },
  "cells": [
    {
      "cell_type": "markdown",
      "metadata": {
        "id": "view-in-github",
        "colab_type": "text"
      },
      "source": [
        "<a href=\"https://colab.research.google.com/github/dpanagop/data_analytics_examples/blob/master/online_retail/Online_retail_Segmentation_by_RFM_Country.ipynb\" target=\"_parent\"><img src=\"https://colab.research.google.com/assets/colab-badge.svg\" alt=\"Open In Colab\"/></a>"
      ]
    },
    {
      "cell_type": "markdown",
      "metadata": {
        "id": "vMgo0NvkNM1C"
      },
      "source": [
        "# Customer Segmentaion of online retail customers\r\n",
        "## Part II - Segmentation by Recency, Frequency, Monetary Vavlue (RFM) and Country."
      ]
    },
    {
      "cell_type": "markdown",
      "metadata": {
        "id": "JJosaWskQR6X"
      },
      "source": [
        "## Introduction\r\n",
        "In this notebook we perform customer segmantation of online retail customers based on their spending per product categories. The dataset used is [Online Retail II Data Set](https://archive.ics.uci.edu/ml/datasets/Online+Retail+II) from UC Irvine Machine Learning Repository. Countries' GDP is from Wikipedia's article [List of countries by GDP (nominal)](https://en.wikipedia.org/wiki/List_of_countries_by_GDP_(nominal)). "
      ]
    },
    {
      "cell_type": "markdown",
      "metadata": {
        "id": "JqY04x3ePHbb"
      },
      "source": [
        "## Loading libraries and fetching data\r\n"
      ]
    },
    {
      "cell_type": "code",
      "metadata": {
        "id": "SQd4r1DQ23sa"
      },
      "source": [
        "import pandas as pd\r\n",
        "import numpy as np\r\n",
        "import matplotlib.pyplot as plt\r\n",
        "import seaborn as sns\r\n",
        "from sklearn.preprocessing import StandardScaler\r\n",
        "from sklearn.cluster import KMeans,MiniBatchKMeans, AgglomerativeClustering\r\n",
        "from sklearn.preprocessing import OneHotEncoder\r\n",
        "from scipy.cluster.hierarchy import dendrogram\r\n",
        "from wordcloud import WordCloud\r\n",
        "sns.set_style(\"whitegrid\")"
      ],
      "execution_count": 1,
      "outputs": []
    },
    {
      "cell_type": "code",
      "metadata": {
        "colab": {
          "base_uri": "https://localhost:8080/"
        },
        "id": "19vwadc-9Aw1",
        "outputId": "62988115-3718-4611-e62f-39ca9391153e"
      },
      "source": [
        "!wget archive.ics.uci.edu/ml/machine-learning-databases/00502/online_retail_II.xlsx\r\n",
        "!wget github.com/dpanagop/data_analytics_examples/raw/master/online_retail/GDP.xlsx"
      ],
      "execution_count": 2,
      "outputs": [
        {
          "output_type": "stream",
          "text": [
            "--2021-01-13 04:42:49--  http://archive.ics.uci.edu/ml/machine-learning-databases/00502/online_retail_II.xlsx\n",
            "Resolving archive.ics.uci.edu (archive.ics.uci.edu)... 128.195.10.252\n",
            "Connecting to archive.ics.uci.edu (archive.ics.uci.edu)|128.195.10.252|:80... connected.\n",
            "HTTP request sent, awaiting response... 200 OK\n",
            "Length: 45622278 (44M) [application/x-httpd-php]\n",
            "Saving to: ‘online_retail_II.xlsx’\n",
            "\n",
            "online_retail_II.xl 100%[===================>]  43.51M  27.2MB/s    in 1.6s    \n",
            "\n",
            "2021-01-13 04:42:51 (27.2 MB/s) - ‘online_retail_II.xlsx’ saved [45622278/45622278]\n",
            "\n",
            "--2021-01-13 04:42:51--  http://github.com/dpanagop/data_analytics_examples/raw/master/online_retail/GDP.xlsx\n",
            "Resolving github.com (github.com)... 140.82.113.3\n",
            "Connecting to github.com (github.com)|140.82.113.3|:80... connected.\n",
            "HTTP request sent, awaiting response... 301 Moved Permanently\n",
            "Location: https://github.com/dpanagop/data_analytics_examples/raw/master/online_retail/GDP.xlsx [following]\n",
            "--2021-01-13 04:42:51--  https://github.com/dpanagop/data_analytics_examples/raw/master/online_retail/GDP.xlsx\n",
            "Connecting to github.com (github.com)|140.82.113.3|:443... connected.\n",
            "HTTP request sent, awaiting response... 302 Found\n",
            "Location: https://raw.githubusercontent.com/dpanagop/data_analytics_examples/master/online_retail/GDP.xlsx [following]\n",
            "--2021-01-13 04:42:51--  https://raw.githubusercontent.com/dpanagop/data_analytics_examples/master/online_retail/GDP.xlsx\n",
            "Resolving raw.githubusercontent.com (raw.githubusercontent.com)... 151.101.0.133, 151.101.64.133, 151.101.128.133, ...\n",
            "Connecting to raw.githubusercontent.com (raw.githubusercontent.com)|151.101.0.133|:443... connected.\n",
            "HTTP request sent, awaiting response... 200 OK\n",
            "Length: 11048 (11K) [application/octet-stream]\n",
            "Saving to: ‘GDP.xlsx’\n",
            "\n",
            "GDP.xlsx            100%[===================>]  10.79K  --.-KB/s    in 0s      \n",
            "\n",
            "2021-01-13 04:42:51 (101 MB/s) - ‘GDP.xlsx’ saved [11048/11048]\n",
            "\n"
          ],
          "name": "stdout"
        }
      ]
    },
    {
      "cell_type": "code",
      "metadata": {
        "id": "cwZSxK9P3PM0"
      },
      "source": [
        "online_retail=pd.read_excel('online_retail_II.xlsx',sheet_name=None)\r\n",
        "online_retail = online_retail['Year 2009-2010'].append(online_retail['Year 2010-2011'],ignore_index=True)"
      ],
      "execution_count": 3,
      "outputs": []
    },
    {
      "cell_type": "markdown",
      "metadata": {
        "id": "O8xAh8cARxPc"
      },
      "source": [
        "Let's take a glimpse of the dataset"
      ]
    },
    {
      "cell_type": "code",
      "metadata": {
        "colab": {
          "base_uri": "https://localhost:8080/",
          "height": 224
        },
        "id": "DYodhlMW3ipD",
        "outputId": "16573be1-4186-49bb-9dc5-e0894b123947"
      },
      "source": [
        "print(online_retail.shape)\r\n",
        "online_retail.head()"
      ],
      "execution_count": 4,
      "outputs": [
        {
          "output_type": "stream",
          "text": [
            "(1067371, 8)\n"
          ],
          "name": "stdout"
        },
        {
          "output_type": "execute_result",
          "data": {
            "text/html": [
              "<div>\n",
              "<style scoped>\n",
              "    .dataframe tbody tr th:only-of-type {\n",
              "        vertical-align: middle;\n",
              "    }\n",
              "\n",
              "    .dataframe tbody tr th {\n",
              "        vertical-align: top;\n",
              "    }\n",
              "\n",
              "    .dataframe thead th {\n",
              "        text-align: right;\n",
              "    }\n",
              "</style>\n",
              "<table border=\"1\" class=\"dataframe\">\n",
              "  <thead>\n",
              "    <tr style=\"text-align: right;\">\n",
              "      <th></th>\n",
              "      <th>Invoice</th>\n",
              "      <th>StockCode</th>\n",
              "      <th>Description</th>\n",
              "      <th>Quantity</th>\n",
              "      <th>InvoiceDate</th>\n",
              "      <th>Price</th>\n",
              "      <th>Customer ID</th>\n",
              "      <th>Country</th>\n",
              "    </tr>\n",
              "  </thead>\n",
              "  <tbody>\n",
              "    <tr>\n",
              "      <th>0</th>\n",
              "      <td>489434</td>\n",
              "      <td>85048</td>\n",
              "      <td>15CM CHRISTMAS GLASS BALL 20 LIGHTS</td>\n",
              "      <td>12</td>\n",
              "      <td>2009-12-01 07:45:00</td>\n",
              "      <td>6.95</td>\n",
              "      <td>13085.0</td>\n",
              "      <td>United Kingdom</td>\n",
              "    </tr>\n",
              "    <tr>\n",
              "      <th>1</th>\n",
              "      <td>489434</td>\n",
              "      <td>79323P</td>\n",
              "      <td>PINK CHERRY LIGHTS</td>\n",
              "      <td>12</td>\n",
              "      <td>2009-12-01 07:45:00</td>\n",
              "      <td>6.75</td>\n",
              "      <td>13085.0</td>\n",
              "      <td>United Kingdom</td>\n",
              "    </tr>\n",
              "    <tr>\n",
              "      <th>2</th>\n",
              "      <td>489434</td>\n",
              "      <td>79323W</td>\n",
              "      <td>WHITE CHERRY LIGHTS</td>\n",
              "      <td>12</td>\n",
              "      <td>2009-12-01 07:45:00</td>\n",
              "      <td>6.75</td>\n",
              "      <td>13085.0</td>\n",
              "      <td>United Kingdom</td>\n",
              "    </tr>\n",
              "    <tr>\n",
              "      <th>3</th>\n",
              "      <td>489434</td>\n",
              "      <td>22041</td>\n",
              "      <td>RECORD FRAME 7\" SINGLE SIZE</td>\n",
              "      <td>48</td>\n",
              "      <td>2009-12-01 07:45:00</td>\n",
              "      <td>2.10</td>\n",
              "      <td>13085.0</td>\n",
              "      <td>United Kingdom</td>\n",
              "    </tr>\n",
              "    <tr>\n",
              "      <th>4</th>\n",
              "      <td>489434</td>\n",
              "      <td>21232</td>\n",
              "      <td>STRAWBERRY CERAMIC TRINKET BOX</td>\n",
              "      <td>24</td>\n",
              "      <td>2009-12-01 07:45:00</td>\n",
              "      <td>1.25</td>\n",
              "      <td>13085.0</td>\n",
              "      <td>United Kingdom</td>\n",
              "    </tr>\n",
              "  </tbody>\n",
              "</table>\n",
              "</div>"
            ],
            "text/plain": [
              "  Invoice StockCode  ... Customer ID         Country\n",
              "0  489434     85048  ...     13085.0  United Kingdom\n",
              "1  489434    79323P  ...     13085.0  United Kingdom\n",
              "2  489434    79323W  ...     13085.0  United Kingdom\n",
              "3  489434     22041  ...     13085.0  United Kingdom\n",
              "4  489434     21232  ...     13085.0  United Kingdom\n",
              "\n",
              "[5 rows x 8 columns]"
            ]
          },
          "metadata": {
            "tags": []
          },
          "execution_count": 4
        }
      ]
    },
    {
      "cell_type": "code",
      "metadata": {
        "id": "6gcFpUJI4Hph",
        "colab": {
          "base_uri": "https://localhost:8080/"
        },
        "outputId": "b5650b5a-3c9a-4355-8958-fb26b05eb985"
      },
      "source": [
        "# number of unique customers\r\n",
        "print('Number of unique customers: {}'.format(len(online_retail['Customer ID'].unique())))"
      ],
      "execution_count": 5,
      "outputs": [
        {
          "output_type": "stream",
          "text": [
            "Number of unique customers: 5943\n"
          ],
          "name": "stdout"
        }
      ]
    },
    {
      "cell_type": "code",
      "metadata": {
        "colab": {
          "base_uri": "https://localhost:8080/"
        },
        "id": "cRxlGo6d8yvH",
        "outputId": "53c48b34-1bf9-44cb-dd3a-550fac1128e3"
      },
      "source": [
        "# examine countries\r\n",
        "print('Number of unique countries: {}\\n'.format(len(online_retail['Country'].unique())))\r\n",
        "online_retail['Country'].value_counts()"
      ],
      "execution_count": 6,
      "outputs": [
        {
          "output_type": "stream",
          "text": [
            "Number of unique countries: 43\n",
            "\n"
          ],
          "name": "stdout"
        },
        {
          "output_type": "execute_result",
          "data": {
            "text/plain": [
              "United Kingdom          981330\n",
              "EIRE                     17866\n",
              "Germany                  17624\n",
              "France                   14330\n",
              "Netherlands               5140\n",
              "Spain                     3811\n",
              "Switzerland               3189\n",
              "Belgium                   3123\n",
              "Portugal                  2620\n",
              "Australia                 1913\n",
              "Channel Islands           1664\n",
              "Italy                     1534\n",
              "Norway                    1455\n",
              "Sweden                    1364\n",
              "Cyprus                    1176\n",
              "Finland                   1049\n",
              "Austria                    938\n",
              "Denmark                    817\n",
              "Unspecified                756\n",
              "Greece                     663\n",
              "Japan                      582\n",
              "Poland                     535\n",
              "USA                        535\n",
              "United Arab Emirates       500\n",
              "Israel                     371\n",
              "Hong Kong                  364\n",
              "Singapore                  346\n",
              "Malta                      299\n",
              "Iceland                    253\n",
              "Canada                     228\n",
              "Lithuania                  189\n",
              "RSA                        169\n",
              "Bahrain                    126\n",
              "Brazil                      94\n",
              "Thailand                    76\n",
              "Korea                       63\n",
              "European Community          61\n",
              "Lebanon                     58\n",
              "West Indies                 54\n",
              "Bermuda                     34\n",
              "Nigeria                     32\n",
              "Czech Republic              30\n",
              "Saudi Arabia                10\n",
              "Name: Country, dtype: int64"
            ]
          },
          "metadata": {
            "tags": []
          },
          "execution_count": 6
        }
      ]
    },
    {
      "cell_type": "markdown",
      "metadata": {
        "id": "F36zJskXmTH6"
      },
      "source": [
        "Some customers appera with two countries in their invoices."
      ]
    },
    {
      "cell_type": "code",
      "metadata": {
        "colab": {
          "base_uri": "https://localhost:8080/"
        },
        "id": "7Ma7GzYxZef0",
        "outputId": "5d2db7eb-7858-48a8-d975-583c97f86752"
      },
      "source": [
        "customer_countries=online_retail.groupby(['Customer ID']).agg({'Country':'nunique'})\r\n",
        "customer_countries['Country'].value_counts()"
      ],
      "execution_count": 7,
      "outputs": [
        {
          "output_type": "execute_result",
          "data": {
            "text/plain": [
              "1    5929\n",
              "2      13\n",
              "Name: Country, dtype: int64"
            ]
          },
          "metadata": {
            "tags": []
          },
          "execution_count": 7
        }
      ]
    },
    {
      "cell_type": "markdown",
      "metadata": {
        "id": "Uzn49jqcmlk5"
      },
      "source": [
        "Min and max Invoice Dates are"
      ]
    },
    {
      "cell_type": "code",
      "metadata": {
        "colab": {
          "base_uri": "https://localhost:8080/"
        },
        "id": "TnU5gevktCGG",
        "outputId": "c7928ecc-915b-46dd-e2f3-d0ecdaed43b8"
      },
      "source": [
        "online_retail['date']= pd.to_datetime(online_retail['InvoiceDate'])\r\n",
        "print (online_retail['date'].min())\r\n",
        "print (online_retail['date'].max())\r\n",
        "max_date=online_retail['date'].max()"
      ],
      "execution_count": 8,
      "outputs": [
        {
          "output_type": "stream",
          "text": [
            "2009-12-01 07:45:00\n",
            "2011-12-09 12:50:00\n"
          ],
          "name": "stdout"
        }
      ]
    },
    {
      "cell_type": "markdown",
      "metadata": {
        "id": "NXmKgXqRt9lD"
      },
      "source": [
        "## Recency, Frequency, Monetary Vavlue (RFM)\r\n",
        "This section calculates Recency, Frequency, Monetary Vavlue (RFM) for each customer.\r\n",
        "\r\n",
        "For each customer:\r\n",
        "* **Recency** is the number of days from last InvoiceDate to most current InvoiceDate of the dataset (2011-12-09),\r\n",
        "* **Frequency** is the number of days from first InvoiceDate to last  InvoiceDate divided by the number of invoices,\r\n",
        "* **Monetary value** is the average cost where cost is the product of Quantity by Price."
      ]
    },
    {
      "cell_type": "code",
      "metadata": {
        "colab": {
          "base_uri": "https://localhost:8080/",
          "height": 206
        },
        "id": "inyQi0BouWC8",
        "outputId": "c6e140dc-e347-442b-90d5-2dbd63e82a99"
      },
      "source": [
        "online_retail['cost']=online_retail['Quantity']*online_retail['Price']\r\n",
        "online_retail.head()"
      ],
      "execution_count": 9,
      "outputs": [
        {
          "output_type": "execute_result",
          "data": {
            "text/html": [
              "<div>\n",
              "<style scoped>\n",
              "    .dataframe tbody tr th:only-of-type {\n",
              "        vertical-align: middle;\n",
              "    }\n",
              "\n",
              "    .dataframe tbody tr th {\n",
              "        vertical-align: top;\n",
              "    }\n",
              "\n",
              "    .dataframe thead th {\n",
              "        text-align: right;\n",
              "    }\n",
              "</style>\n",
              "<table border=\"1\" class=\"dataframe\">\n",
              "  <thead>\n",
              "    <tr style=\"text-align: right;\">\n",
              "      <th></th>\n",
              "      <th>Invoice</th>\n",
              "      <th>StockCode</th>\n",
              "      <th>Description</th>\n",
              "      <th>Quantity</th>\n",
              "      <th>InvoiceDate</th>\n",
              "      <th>Price</th>\n",
              "      <th>Customer ID</th>\n",
              "      <th>Country</th>\n",
              "      <th>date</th>\n",
              "      <th>cost</th>\n",
              "    </tr>\n",
              "  </thead>\n",
              "  <tbody>\n",
              "    <tr>\n",
              "      <th>0</th>\n",
              "      <td>489434</td>\n",
              "      <td>85048</td>\n",
              "      <td>15CM CHRISTMAS GLASS BALL 20 LIGHTS</td>\n",
              "      <td>12</td>\n",
              "      <td>2009-12-01 07:45:00</td>\n",
              "      <td>6.95</td>\n",
              "      <td>13085.0</td>\n",
              "      <td>United Kingdom</td>\n",
              "      <td>2009-12-01 07:45:00</td>\n",
              "      <td>83.4</td>\n",
              "    </tr>\n",
              "    <tr>\n",
              "      <th>1</th>\n",
              "      <td>489434</td>\n",
              "      <td>79323P</td>\n",
              "      <td>PINK CHERRY LIGHTS</td>\n",
              "      <td>12</td>\n",
              "      <td>2009-12-01 07:45:00</td>\n",
              "      <td>6.75</td>\n",
              "      <td>13085.0</td>\n",
              "      <td>United Kingdom</td>\n",
              "      <td>2009-12-01 07:45:00</td>\n",
              "      <td>81.0</td>\n",
              "    </tr>\n",
              "    <tr>\n",
              "      <th>2</th>\n",
              "      <td>489434</td>\n",
              "      <td>79323W</td>\n",
              "      <td>WHITE CHERRY LIGHTS</td>\n",
              "      <td>12</td>\n",
              "      <td>2009-12-01 07:45:00</td>\n",
              "      <td>6.75</td>\n",
              "      <td>13085.0</td>\n",
              "      <td>United Kingdom</td>\n",
              "      <td>2009-12-01 07:45:00</td>\n",
              "      <td>81.0</td>\n",
              "    </tr>\n",
              "    <tr>\n",
              "      <th>3</th>\n",
              "      <td>489434</td>\n",
              "      <td>22041</td>\n",
              "      <td>RECORD FRAME 7\" SINGLE SIZE</td>\n",
              "      <td>48</td>\n",
              "      <td>2009-12-01 07:45:00</td>\n",
              "      <td>2.10</td>\n",
              "      <td>13085.0</td>\n",
              "      <td>United Kingdom</td>\n",
              "      <td>2009-12-01 07:45:00</td>\n",
              "      <td>100.8</td>\n",
              "    </tr>\n",
              "    <tr>\n",
              "      <th>4</th>\n",
              "      <td>489434</td>\n",
              "      <td>21232</td>\n",
              "      <td>STRAWBERRY CERAMIC TRINKET BOX</td>\n",
              "      <td>24</td>\n",
              "      <td>2009-12-01 07:45:00</td>\n",
              "      <td>1.25</td>\n",
              "      <td>13085.0</td>\n",
              "      <td>United Kingdom</td>\n",
              "      <td>2009-12-01 07:45:00</td>\n",
              "      <td>30.0</td>\n",
              "    </tr>\n",
              "  </tbody>\n",
              "</table>\n",
              "</div>"
            ],
            "text/plain": [
              "  Invoice StockCode  ...                date   cost\n",
              "0  489434     85048  ... 2009-12-01 07:45:00   83.4\n",
              "1  489434    79323P  ... 2009-12-01 07:45:00   81.0\n",
              "2  489434    79323W  ... 2009-12-01 07:45:00   81.0\n",
              "3  489434     22041  ... 2009-12-01 07:45:00  100.8\n",
              "4  489434     21232  ... 2009-12-01 07:45:00   30.0\n",
              "\n",
              "[5 rows x 10 columns]"
            ]
          },
          "metadata": {
            "tags": []
          },
          "execution_count": 9
        }
      ]
    },
    {
      "cell_type": "code",
      "metadata": {
        "colab": {
          "base_uri": "https://localhost:8080/",
          "height": 238
        },
        "id": "qdhpWc6rtvjx",
        "outputId": "96d1cdb5-dec1-443f-ee77-c23118c33015"
      },
      "source": [
        "customer_rfm=online_retail.groupby(['Customer ID']).agg({'Invoice':'nunique', \r\n",
        "                                                         'cost':'sum',\r\n",
        "                                                         'date':['min','max']})\r\n",
        "customer_rfm.columns=['count','total_cost','min_date','max_date']\r\n",
        "customer_rfm.head()"
      ],
      "execution_count": 10,
      "outputs": [
        {
          "output_type": "execute_result",
          "data": {
            "text/html": [
              "<div>\n",
              "<style scoped>\n",
              "    .dataframe tbody tr th:only-of-type {\n",
              "        vertical-align: middle;\n",
              "    }\n",
              "\n",
              "    .dataframe tbody tr th {\n",
              "        vertical-align: top;\n",
              "    }\n",
              "\n",
              "    .dataframe thead th {\n",
              "        text-align: right;\n",
              "    }\n",
              "</style>\n",
              "<table border=\"1\" class=\"dataframe\">\n",
              "  <thead>\n",
              "    <tr style=\"text-align: right;\">\n",
              "      <th></th>\n",
              "      <th>count</th>\n",
              "      <th>total_cost</th>\n",
              "      <th>min_date</th>\n",
              "      <th>max_date</th>\n",
              "    </tr>\n",
              "    <tr>\n",
              "      <th>Customer ID</th>\n",
              "      <th></th>\n",
              "      <th></th>\n",
              "      <th></th>\n",
              "      <th></th>\n",
              "    </tr>\n",
              "  </thead>\n",
              "  <tbody>\n",
              "    <tr>\n",
              "      <th>12346.0</th>\n",
              "      <td>17</td>\n",
              "      <td>-64.68</td>\n",
              "      <td>2009-12-14 08:34:00</td>\n",
              "      <td>2011-01-18 10:17:00</td>\n",
              "    </tr>\n",
              "    <tr>\n",
              "      <th>12347.0</th>\n",
              "      <td>8</td>\n",
              "      <td>5633.32</td>\n",
              "      <td>2010-10-31 14:20:00</td>\n",
              "      <td>2011-12-07 15:52:00</td>\n",
              "    </tr>\n",
              "    <tr>\n",
              "      <th>12348.0</th>\n",
              "      <td>5</td>\n",
              "      <td>2019.40</td>\n",
              "      <td>2010-09-27 14:59:00</td>\n",
              "      <td>2011-09-25 13:13:00</td>\n",
              "    </tr>\n",
              "    <tr>\n",
              "      <th>12349.0</th>\n",
              "      <td>5</td>\n",
              "      <td>4404.54</td>\n",
              "      <td>2009-12-04 12:49:00</td>\n",
              "      <td>2011-11-21 09:51:00</td>\n",
              "    </tr>\n",
              "    <tr>\n",
              "      <th>12350.0</th>\n",
              "      <td>1</td>\n",
              "      <td>334.40</td>\n",
              "      <td>2011-02-02 16:01:00</td>\n",
              "      <td>2011-02-02 16:01:00</td>\n",
              "    </tr>\n",
              "  </tbody>\n",
              "</table>\n",
              "</div>"
            ],
            "text/plain": [
              "             count  total_cost            min_date            max_date\n",
              "Customer ID                                                           \n",
              "12346.0         17      -64.68 2009-12-14 08:34:00 2011-01-18 10:17:00\n",
              "12347.0          8     5633.32 2010-10-31 14:20:00 2011-12-07 15:52:00\n",
              "12348.0          5     2019.40 2010-09-27 14:59:00 2011-09-25 13:13:00\n",
              "12349.0          5     4404.54 2009-12-04 12:49:00 2011-11-21 09:51:00\n",
              "12350.0          1      334.40 2011-02-02 16:01:00 2011-02-02 16:01:00"
            ]
          },
          "metadata": {
            "tags": []
          },
          "execution_count": 10
        }
      ]
    },
    {
      "cell_type": "code",
      "metadata": {
        "colab": {
          "base_uri": "https://localhost:8080/",
          "height": 238
        },
        "id": "lDI9FDroUJjs",
        "outputId": "4b5deab6-12dd-477b-fcaf-aa974bb52cb0"
      },
      "source": [
        "customer_rfm['recency']=max_date-customer_rfm['max_date']\r\n",
        "customer_rfm['recency'] = customer_rfm['recency'].dt.days\r\n",
        "customer_rfm['days']=max_date-customer_rfm['min_date']\r\n",
        "customer_rfm['days'] = customer_rfm['days'].dt.days\r\n",
        "customer_rfm['frequency']=customer_rfm['days']/customer_rfm['count']\r\n",
        "customer_rfm['monetary_value']=customer_rfm['total_cost']/customer_rfm['count']\r\n",
        "customer_rfm=customer_rfm.drop(['count','total_cost','days','min_date','max_date'],axis=1)\r\n",
        "customer_rfm.head()"
      ],
      "execution_count": 11,
      "outputs": [
        {
          "output_type": "execute_result",
          "data": {
            "text/html": [
              "<div>\n",
              "<style scoped>\n",
              "    .dataframe tbody tr th:only-of-type {\n",
              "        vertical-align: middle;\n",
              "    }\n",
              "\n",
              "    .dataframe tbody tr th {\n",
              "        vertical-align: top;\n",
              "    }\n",
              "\n",
              "    .dataframe thead th {\n",
              "        text-align: right;\n",
              "    }\n",
              "</style>\n",
              "<table border=\"1\" class=\"dataframe\">\n",
              "  <thead>\n",
              "    <tr style=\"text-align: right;\">\n",
              "      <th></th>\n",
              "      <th>recency</th>\n",
              "      <th>frequency</th>\n",
              "      <th>monetary_value</th>\n",
              "    </tr>\n",
              "    <tr>\n",
              "      <th>Customer ID</th>\n",
              "      <th></th>\n",
              "      <th></th>\n",
              "      <th></th>\n",
              "    </tr>\n",
              "  </thead>\n",
              "  <tbody>\n",
              "    <tr>\n",
              "      <th>12346.0</th>\n",
              "      <td>325</td>\n",
              "      <td>42.647059</td>\n",
              "      <td>-3.804706</td>\n",
              "    </tr>\n",
              "    <tr>\n",
              "      <th>12347.0</th>\n",
              "      <td>1</td>\n",
              "      <td>50.375000</td>\n",
              "      <td>704.165000</td>\n",
              "    </tr>\n",
              "    <tr>\n",
              "      <th>12348.0</th>\n",
              "      <td>74</td>\n",
              "      <td>87.400000</td>\n",
              "      <td>403.880000</td>\n",
              "    </tr>\n",
              "    <tr>\n",
              "      <th>12349.0</th>\n",
              "      <td>18</td>\n",
              "      <td>147.000000</td>\n",
              "      <td>880.908000</td>\n",
              "    </tr>\n",
              "    <tr>\n",
              "      <th>12350.0</th>\n",
              "      <td>309</td>\n",
              "      <td>309.000000</td>\n",
              "      <td>334.400000</td>\n",
              "    </tr>\n",
              "  </tbody>\n",
              "</table>\n",
              "</div>"
            ],
            "text/plain": [
              "             recency   frequency  monetary_value\n",
              "Customer ID                                     \n",
              "12346.0          325   42.647059       -3.804706\n",
              "12347.0            1   50.375000      704.165000\n",
              "12348.0           74   87.400000      403.880000\n",
              "12349.0           18  147.000000      880.908000\n",
              "12350.0          309  309.000000      334.400000"
            ]
          },
          "metadata": {
            "tags": []
          },
          "execution_count": 11
        }
      ]
    },
    {
      "cell_type": "markdown",
      "metadata": {
        "id": "c6ySIQskcey7"
      },
      "source": [
        "## Countries\r\n",
        "This section appends to each customer his/hers country GDP. For customers with more than on countries, we take the weighted by number of invoices GDP."
      ]
    },
    {
      "cell_type": "code",
      "metadata": {
        "colab": {
          "base_uri": "https://localhost:8080/",
          "height": 238
        },
        "id": "D_RPK-ITWXoX",
        "outputId": "965840bd-68d2-4bac-c788-0edf4e09c8ff"
      },
      "source": [
        "customer_countries=online_retail.groupby(['Customer ID','Country']).agg({'Invoice':'nunique'})\r\n",
        "customer_countries.head()"
      ],
      "execution_count": 12,
      "outputs": [
        {
          "output_type": "execute_result",
          "data": {
            "text/html": [
              "<div>\n",
              "<style scoped>\n",
              "    .dataframe tbody tr th:only-of-type {\n",
              "        vertical-align: middle;\n",
              "    }\n",
              "\n",
              "    .dataframe tbody tr th {\n",
              "        vertical-align: top;\n",
              "    }\n",
              "\n",
              "    .dataframe thead th {\n",
              "        text-align: right;\n",
              "    }\n",
              "</style>\n",
              "<table border=\"1\" class=\"dataframe\">\n",
              "  <thead>\n",
              "    <tr style=\"text-align: right;\">\n",
              "      <th></th>\n",
              "      <th></th>\n",
              "      <th>Invoice</th>\n",
              "    </tr>\n",
              "    <tr>\n",
              "      <th>Customer ID</th>\n",
              "      <th>Country</th>\n",
              "      <th></th>\n",
              "    </tr>\n",
              "  </thead>\n",
              "  <tbody>\n",
              "    <tr>\n",
              "      <th>12346.0</th>\n",
              "      <th>United Kingdom</th>\n",
              "      <td>17</td>\n",
              "    </tr>\n",
              "    <tr>\n",
              "      <th>12347.0</th>\n",
              "      <th>Iceland</th>\n",
              "      <td>8</td>\n",
              "    </tr>\n",
              "    <tr>\n",
              "      <th>12348.0</th>\n",
              "      <th>Finland</th>\n",
              "      <td>5</td>\n",
              "    </tr>\n",
              "    <tr>\n",
              "      <th>12349.0</th>\n",
              "      <th>Italy</th>\n",
              "      <td>5</td>\n",
              "    </tr>\n",
              "    <tr>\n",
              "      <th>12350.0</th>\n",
              "      <th>Norway</th>\n",
              "      <td>1</td>\n",
              "    </tr>\n",
              "  </tbody>\n",
              "</table>\n",
              "</div>"
            ],
            "text/plain": [
              "                            Invoice\n",
              "Customer ID Country                \n",
              "12346.0     United Kingdom       17\n",
              "12347.0     Iceland               8\n",
              "12348.0     Finland               5\n",
              "12349.0     Italy                 5\n",
              "12350.0     Norway                1"
            ]
          },
          "metadata": {
            "tags": []
          },
          "execution_count": 12
        }
      ]
    },
    {
      "cell_type": "code",
      "metadata": {
        "colab": {
          "base_uri": "https://localhost:8080/",
          "height": 206
        },
        "id": "y30iKLPtWUxc",
        "outputId": "62eea123-d386-4518-f32f-f9ec3ce63059"
      },
      "source": [
        "countries_GDP=pd.read_excel('GDP.xlsx')\r\n",
        "countries_GDP.head()"
      ],
      "execution_count": 13,
      "outputs": [
        {
          "output_type": "execute_result",
          "data": {
            "text/html": [
              "<div>\n",
              "<style scoped>\n",
              "    .dataframe tbody tr th:only-of-type {\n",
              "        vertical-align: middle;\n",
              "    }\n",
              "\n",
              "    .dataframe tbody tr th {\n",
              "        vertical-align: top;\n",
              "    }\n",
              "\n",
              "    .dataframe thead th {\n",
              "        text-align: right;\n",
              "    }\n",
              "</style>\n",
              "<table border=\"1\" class=\"dataframe\">\n",
              "  <thead>\n",
              "    <tr style=\"text-align: right;\">\n",
              "      <th></th>\n",
              "      <th>Country</th>\n",
              "      <th>GDP</th>\n",
              "    </tr>\n",
              "  </thead>\n",
              "  <tbody>\n",
              "    <tr>\n",
              "      <th>0</th>\n",
              "      <td>United Kingdom</td>\n",
              "      <td>2638296</td>\n",
              "    </tr>\n",
              "    <tr>\n",
              "      <th>1</th>\n",
              "      <td>EIRE</td>\n",
              "      <td>399064</td>\n",
              "    </tr>\n",
              "    <tr>\n",
              "      <th>2</th>\n",
              "      <td>Germany</td>\n",
              "      <td>3780553</td>\n",
              "    </tr>\n",
              "    <tr>\n",
              "      <th>3</th>\n",
              "      <td>France</td>\n",
              "      <td>2551451</td>\n",
              "    </tr>\n",
              "    <tr>\n",
              "      <th>4</th>\n",
              "      <td>Netherlands</td>\n",
              "      <td>886339</td>\n",
              "    </tr>\n",
              "  </tbody>\n",
              "</table>\n",
              "</div>"
            ],
            "text/plain": [
              "          Country      GDP\n",
              "0  United Kingdom  2638296\n",
              "1            EIRE   399064\n",
              "2         Germany  3780553\n",
              "3          France  2551451\n",
              "4     Netherlands   886339"
            ]
          },
          "metadata": {
            "tags": []
          },
          "execution_count": 13
        }
      ]
    },
    {
      "cell_type": "code",
      "metadata": {
        "colab": {
          "base_uri": "https://localhost:8080/",
          "height": 238
        },
        "id": "bamsjjRiaIXk",
        "outputId": "63206e2e-4dba-4052-f71e-af4e2b46a23f"
      },
      "source": [
        "customer_countries=customer_countries.reset_index().merge(countries_GDP,on='Country',how='left').set_index('Customer ID')\r\n",
        "customer_countries.head()"
      ],
      "execution_count": 14,
      "outputs": [
        {
          "output_type": "execute_result",
          "data": {
            "text/html": [
              "<div>\n",
              "<style scoped>\n",
              "    .dataframe tbody tr th:only-of-type {\n",
              "        vertical-align: middle;\n",
              "    }\n",
              "\n",
              "    .dataframe tbody tr th {\n",
              "        vertical-align: top;\n",
              "    }\n",
              "\n",
              "    .dataframe thead th {\n",
              "        text-align: right;\n",
              "    }\n",
              "</style>\n",
              "<table border=\"1\" class=\"dataframe\">\n",
              "  <thead>\n",
              "    <tr style=\"text-align: right;\">\n",
              "      <th></th>\n",
              "      <th>Country</th>\n",
              "      <th>Invoice</th>\n",
              "      <th>GDP</th>\n",
              "    </tr>\n",
              "    <tr>\n",
              "      <th>Customer ID</th>\n",
              "      <th></th>\n",
              "      <th></th>\n",
              "      <th></th>\n",
              "    </tr>\n",
              "  </thead>\n",
              "  <tbody>\n",
              "    <tr>\n",
              "      <th>12346.0</th>\n",
              "      <td>United Kingdom</td>\n",
              "      <td>17</td>\n",
              "      <td>2638296.0</td>\n",
              "    </tr>\n",
              "    <tr>\n",
              "      <th>12347.0</th>\n",
              "      <td>Iceland</td>\n",
              "      <td>8</td>\n",
              "      <td>20805.0</td>\n",
              "    </tr>\n",
              "    <tr>\n",
              "      <th>12348.0</th>\n",
              "      <td>Finland</td>\n",
              "      <td>5</td>\n",
              "      <td>267856.0</td>\n",
              "    </tr>\n",
              "    <tr>\n",
              "      <th>12349.0</th>\n",
              "      <td>Italy</td>\n",
              "      <td>5</td>\n",
              "      <td>1848222.0</td>\n",
              "    </tr>\n",
              "    <tr>\n",
              "      <th>12350.0</th>\n",
              "      <td>Norway</td>\n",
              "      <td>1</td>\n",
              "      <td>366386.0</td>\n",
              "    </tr>\n",
              "  </tbody>\n",
              "</table>\n",
              "</div>"
            ],
            "text/plain": [
              "                    Country  Invoice        GDP\n",
              "Customer ID                                    \n",
              "12346.0      United Kingdom       17  2638296.0\n",
              "12347.0             Iceland        8    20805.0\n",
              "12348.0             Finland        5   267856.0\n",
              "12349.0               Italy        5  1848222.0\n",
              "12350.0              Norway        1   366386.0"
            ]
          },
          "metadata": {
            "tags": []
          },
          "execution_count": 14
        }
      ]
    },
    {
      "cell_type": "markdown",
      "metadata": {
        "id": "bvGXHnOHo1UA"
      },
      "source": [
        "For some customers we do not have country/GDP."
      ]
    },
    {
      "cell_type": "code",
      "metadata": {
        "colab": {
          "base_uri": "https://localhost:8080/",
          "height": 820
        },
        "id": "JrFrm9P_a0ln",
        "outputId": "4a1a07e0-d1e9-4a39-fa99-3b7d118efca1"
      },
      "source": [
        "print('Customers with missing GDP data: {}'.format(customer_countries['GDP'].isna().sum()))\r\n",
        "customer_countries[customer_countries['GDP'].isna()]"
      ],
      "execution_count": 15,
      "outputs": [
        {
          "output_type": "stream",
          "text": [
            "Customers with missing GDP data: 23\n"
          ],
          "name": "stdout"
        },
        {
          "output_type": "execute_result",
          "data": {
            "text/html": [
              "<div>\n",
              "<style scoped>\n",
              "    .dataframe tbody tr th:only-of-type {\n",
              "        vertical-align: middle;\n",
              "    }\n",
              "\n",
              "    .dataframe tbody tr th {\n",
              "        vertical-align: top;\n",
              "    }\n",
              "\n",
              "    .dataframe thead th {\n",
              "        text-align: right;\n",
              "    }\n",
              "</style>\n",
              "<table border=\"1\" class=\"dataframe\">\n",
              "  <thead>\n",
              "    <tr style=\"text-align: right;\">\n",
              "      <th></th>\n",
              "      <th>Country</th>\n",
              "      <th>Invoice</th>\n",
              "      <th>GDP</th>\n",
              "    </tr>\n",
              "    <tr>\n",
              "      <th>Customer ID</th>\n",
              "      <th></th>\n",
              "      <th></th>\n",
              "      <th></th>\n",
              "    </tr>\n",
              "  </thead>\n",
              "  <tbody>\n",
              "    <tr>\n",
              "      <th>12351.0</th>\n",
              "      <td>Unspecified</td>\n",
              "      <td>1</td>\n",
              "      <td>NaN</td>\n",
              "    </tr>\n",
              "    <tr>\n",
              "      <th>12363.0</th>\n",
              "      <td>Unspecified</td>\n",
              "      <td>2</td>\n",
              "      <td>NaN</td>\n",
              "    </tr>\n",
              "    <tr>\n",
              "      <th>12470.0</th>\n",
              "      <td>Unspecified</td>\n",
              "      <td>1</td>\n",
              "      <td>NaN</td>\n",
              "    </tr>\n",
              "    <tr>\n",
              "      <th>12743.0</th>\n",
              "      <td>Unspecified</td>\n",
              "      <td>2</td>\n",
              "      <td>NaN</td>\n",
              "    </tr>\n",
              "    <tr>\n",
              "      <th>14265.0</th>\n",
              "      <td>Unspecified</td>\n",
              "      <td>4</td>\n",
              "      <td>NaN</td>\n",
              "    </tr>\n",
              "    <tr>\n",
              "      <th>14442.0</th>\n",
              "      <td>Channel Islands</td>\n",
              "      <td>12</td>\n",
              "      <td>NaN</td>\n",
              "    </tr>\n",
              "    <tr>\n",
              "      <th>14564.0</th>\n",
              "      <td>Channel Islands</td>\n",
              "      <td>5</td>\n",
              "      <td>NaN</td>\n",
              "    </tr>\n",
              "    <tr>\n",
              "      <th>14566.0</th>\n",
              "      <td>Channel Islands</td>\n",
              "      <td>4</td>\n",
              "      <td>NaN</td>\n",
              "    </tr>\n",
              "    <tr>\n",
              "      <th>14568.0</th>\n",
              "      <td>Channel Islands</td>\n",
              "      <td>2</td>\n",
              "      <td>NaN</td>\n",
              "    </tr>\n",
              "    <tr>\n",
              "      <th>14930.0</th>\n",
              "      <td>Channel Islands</td>\n",
              "      <td>9</td>\n",
              "      <td>NaN</td>\n",
              "    </tr>\n",
              "    <tr>\n",
              "      <th>14931.0</th>\n",
              "      <td>Channel Islands</td>\n",
              "      <td>6</td>\n",
              "      <td>NaN</td>\n",
              "    </tr>\n",
              "    <tr>\n",
              "      <th>14932.0</th>\n",
              "      <td>Channel Islands</td>\n",
              "      <td>2</td>\n",
              "      <td>NaN</td>\n",
              "    </tr>\n",
              "    <tr>\n",
              "      <th>14933.0</th>\n",
              "      <td>Channel Islands</td>\n",
              "      <td>5</td>\n",
              "      <td>NaN</td>\n",
              "    </tr>\n",
              "    <tr>\n",
              "      <th>14934.0</th>\n",
              "      <td>Channel Islands</td>\n",
              "      <td>9</td>\n",
              "      <td>NaN</td>\n",
              "    </tr>\n",
              "    <tr>\n",
              "      <th>14935.0</th>\n",
              "      <td>Channel Islands</td>\n",
              "      <td>2</td>\n",
              "      <td>NaN</td>\n",
              "    </tr>\n",
              "    <tr>\n",
              "      <th>14936.0</th>\n",
              "      <td>Channel Islands</td>\n",
              "      <td>14</td>\n",
              "      <td>NaN</td>\n",
              "    </tr>\n",
              "    <tr>\n",
              "      <th>14937.0</th>\n",
              "      <td>Channel Islands</td>\n",
              "      <td>4</td>\n",
              "      <td>NaN</td>\n",
              "    </tr>\n",
              "    <tr>\n",
              "      <th>14938.0</th>\n",
              "      <td>Channel Islands</td>\n",
              "      <td>4</td>\n",
              "      <td>NaN</td>\n",
              "    </tr>\n",
              "    <tr>\n",
              "      <th>14939.0</th>\n",
              "      <td>Channel Islands</td>\n",
              "      <td>1</td>\n",
              "      <td>NaN</td>\n",
              "    </tr>\n",
              "    <tr>\n",
              "      <th>15108.0</th>\n",
              "      <td>European Community</td>\n",
              "      <td>5</td>\n",
              "      <td>NaN</td>\n",
              "    </tr>\n",
              "    <tr>\n",
              "      <th>15357.0</th>\n",
              "      <td>Unspecified</td>\n",
              "      <td>1</td>\n",
              "      <td>NaN</td>\n",
              "    </tr>\n",
              "    <tr>\n",
              "      <th>16320.0</th>\n",
              "      <td>Unspecified</td>\n",
              "      <td>8</td>\n",
              "      <td>NaN</td>\n",
              "    </tr>\n",
              "    <tr>\n",
              "      <th>18140.0</th>\n",
              "      <td>West Indies</td>\n",
              "      <td>1</td>\n",
              "      <td>NaN</td>\n",
              "    </tr>\n",
              "  </tbody>\n",
              "</table>\n",
              "</div>"
            ],
            "text/plain": [
              "                        Country  Invoice  GDP\n",
              "Customer ID                                  \n",
              "12351.0             Unspecified        1  NaN\n",
              "12363.0             Unspecified        2  NaN\n",
              "12470.0             Unspecified        1  NaN\n",
              "12743.0             Unspecified        2  NaN\n",
              "14265.0             Unspecified        4  NaN\n",
              "14442.0         Channel Islands       12  NaN\n",
              "14564.0         Channel Islands        5  NaN\n",
              "14566.0         Channel Islands        4  NaN\n",
              "14568.0         Channel Islands        2  NaN\n",
              "14930.0         Channel Islands        9  NaN\n",
              "14931.0         Channel Islands        6  NaN\n",
              "14932.0         Channel Islands        2  NaN\n",
              "14933.0         Channel Islands        5  NaN\n",
              "14934.0         Channel Islands        9  NaN\n",
              "14935.0         Channel Islands        2  NaN\n",
              "14936.0         Channel Islands       14  NaN\n",
              "14937.0         Channel Islands        4  NaN\n",
              "14938.0         Channel Islands        4  NaN\n",
              "14939.0         Channel Islands        1  NaN\n",
              "15108.0      European Community        5  NaN\n",
              "15357.0             Unspecified        1  NaN\n",
              "16320.0             Unspecified        8  NaN\n",
              "18140.0             West Indies        1  NaN"
            ]
          },
          "metadata": {
            "tags": []
          },
          "execution_count": 15
        }
      ]
    },
    {
      "cell_type": "markdown",
      "metadata": {
        "id": "b8f33LpqpJMT"
      },
      "source": [
        "Next, we calculate the weighted GDP."
      ]
    },
    {
      "cell_type": "code",
      "metadata": {
        "colab": {
          "base_uri": "https://localhost:8080/",
          "height": 238
        },
        "id": "-gl6lR05cRUW",
        "outputId": "99db5fb0-dd8c-46d6-e42f-4bfd7ef4e09d"
      },
      "source": [
        "customer_countries['weight']=customer_countries['Invoice']*customer_countries['GDP']\r\n",
        "customer_countries=customer_countries.groupby(['Customer ID']).agg({'Invoice':'sum',\r\n",
        "                                                               'weight':'sum'})\r\n",
        "customer_countries['weighted GDP']=customer_countries['weight']/customer_countries['Invoice']\r\n",
        "customer_countries.head()"
      ],
      "execution_count": 16,
      "outputs": [
        {
          "output_type": "execute_result",
          "data": {
            "text/html": [
              "<div>\n",
              "<style scoped>\n",
              "    .dataframe tbody tr th:only-of-type {\n",
              "        vertical-align: middle;\n",
              "    }\n",
              "\n",
              "    .dataframe tbody tr th {\n",
              "        vertical-align: top;\n",
              "    }\n",
              "\n",
              "    .dataframe thead th {\n",
              "        text-align: right;\n",
              "    }\n",
              "</style>\n",
              "<table border=\"1\" class=\"dataframe\">\n",
              "  <thead>\n",
              "    <tr style=\"text-align: right;\">\n",
              "      <th></th>\n",
              "      <th>Invoice</th>\n",
              "      <th>weight</th>\n",
              "      <th>weighted GDP</th>\n",
              "    </tr>\n",
              "    <tr>\n",
              "      <th>Customer ID</th>\n",
              "      <th></th>\n",
              "      <th></th>\n",
              "      <th></th>\n",
              "    </tr>\n",
              "  </thead>\n",
              "  <tbody>\n",
              "    <tr>\n",
              "      <th>12346.0</th>\n",
              "      <td>17</td>\n",
              "      <td>44851032.0</td>\n",
              "      <td>2638296.0</td>\n",
              "    </tr>\n",
              "    <tr>\n",
              "      <th>12347.0</th>\n",
              "      <td>8</td>\n",
              "      <td>166440.0</td>\n",
              "      <td>20805.0</td>\n",
              "    </tr>\n",
              "    <tr>\n",
              "      <th>12348.0</th>\n",
              "      <td>5</td>\n",
              "      <td>1339280.0</td>\n",
              "      <td>267856.0</td>\n",
              "    </tr>\n",
              "    <tr>\n",
              "      <th>12349.0</th>\n",
              "      <td>5</td>\n",
              "      <td>9241110.0</td>\n",
              "      <td>1848222.0</td>\n",
              "    </tr>\n",
              "    <tr>\n",
              "      <th>12350.0</th>\n",
              "      <td>1</td>\n",
              "      <td>366386.0</td>\n",
              "      <td>366386.0</td>\n",
              "    </tr>\n",
              "  </tbody>\n",
              "</table>\n",
              "</div>"
            ],
            "text/plain": [
              "             Invoice      weight  weighted GDP\n",
              "Customer ID                                   \n",
              "12346.0           17  44851032.0     2638296.0\n",
              "12347.0            8    166440.0       20805.0\n",
              "12348.0            5   1339280.0      267856.0\n",
              "12349.0            5   9241110.0     1848222.0\n",
              "12350.0            1    366386.0      366386.0"
            ]
          },
          "metadata": {
            "tags": []
          },
          "execution_count": 16
        }
      ]
    },
    {
      "cell_type": "markdown",
      "metadata": {
        "id": "JJ2gicjYW4F4"
      },
      "source": [
        "##Customer Segmentation based on RFM - Country GDP\r\n",
        "In this section we perform customer segmentation based on RFM-GDP. We use k-Means and hierarchical clustering."
      ]
    },
    {
      "cell_type": "markdown",
      "metadata": {
        "id": "DSc9Csi3ZZdd"
      },
      "source": [
        "### Join RFM - Country GDP\r\n",
        "First, we join RFM and GDP data. The result will be the input to clustering algorithms.\r\n"
      ]
    },
    {
      "cell_type": "code",
      "metadata": {
        "colab": {
          "base_uri": "https://localhost:8080/",
          "height": 238
        },
        "id": "Y1PKUhuI6AsR",
        "outputId": "4b702cba-6ab9-4e52-a5ef-a0aca8288c20"
      },
      "source": [
        "customer_RFM_GDP=pd.merge(customer_rfm,customer_countries,on='Customer ID')\r\n",
        "customer_RFM_GDP=customer_RFM_GDP.drop(['Invoice','weight'],axis=1)\r\n",
        "customer_RFM_GDP.head()"
      ],
      "execution_count": 17,
      "outputs": [
        {
          "output_type": "execute_result",
          "data": {
            "text/html": [
              "<div>\n",
              "<style scoped>\n",
              "    .dataframe tbody tr th:only-of-type {\n",
              "        vertical-align: middle;\n",
              "    }\n",
              "\n",
              "    .dataframe tbody tr th {\n",
              "        vertical-align: top;\n",
              "    }\n",
              "\n",
              "    .dataframe thead th {\n",
              "        text-align: right;\n",
              "    }\n",
              "</style>\n",
              "<table border=\"1\" class=\"dataframe\">\n",
              "  <thead>\n",
              "    <tr style=\"text-align: right;\">\n",
              "      <th></th>\n",
              "      <th>recency</th>\n",
              "      <th>frequency</th>\n",
              "      <th>monetary_value</th>\n",
              "      <th>weighted GDP</th>\n",
              "    </tr>\n",
              "    <tr>\n",
              "      <th>Customer ID</th>\n",
              "      <th></th>\n",
              "      <th></th>\n",
              "      <th></th>\n",
              "      <th></th>\n",
              "    </tr>\n",
              "  </thead>\n",
              "  <tbody>\n",
              "    <tr>\n",
              "      <th>12346.0</th>\n",
              "      <td>325</td>\n",
              "      <td>42.647059</td>\n",
              "      <td>-3.804706</td>\n",
              "      <td>2638296.0</td>\n",
              "    </tr>\n",
              "    <tr>\n",
              "      <th>12347.0</th>\n",
              "      <td>1</td>\n",
              "      <td>50.375000</td>\n",
              "      <td>704.165000</td>\n",
              "      <td>20805.0</td>\n",
              "    </tr>\n",
              "    <tr>\n",
              "      <th>12348.0</th>\n",
              "      <td>74</td>\n",
              "      <td>87.400000</td>\n",
              "      <td>403.880000</td>\n",
              "      <td>267856.0</td>\n",
              "    </tr>\n",
              "    <tr>\n",
              "      <th>12349.0</th>\n",
              "      <td>18</td>\n",
              "      <td>147.000000</td>\n",
              "      <td>880.908000</td>\n",
              "      <td>1848222.0</td>\n",
              "    </tr>\n",
              "    <tr>\n",
              "      <th>12350.0</th>\n",
              "      <td>309</td>\n",
              "      <td>309.000000</td>\n",
              "      <td>334.400000</td>\n",
              "      <td>366386.0</td>\n",
              "    </tr>\n",
              "  </tbody>\n",
              "</table>\n",
              "</div>"
            ],
            "text/plain": [
              "             recency   frequency  monetary_value  weighted GDP\n",
              "Customer ID                                                   \n",
              "12346.0          325   42.647059       -3.804706     2638296.0\n",
              "12347.0            1   50.375000      704.165000       20805.0\n",
              "12348.0           74   87.400000      403.880000      267856.0\n",
              "12349.0           18  147.000000      880.908000     1848222.0\n",
              "12350.0          309  309.000000      334.400000      366386.0"
            ]
          },
          "metadata": {
            "tags": []
          },
          "execution_count": 17
        }
      ]
    },
    {
      "cell_type": "markdown",
      "metadata": {
        "id": "Rxn3hxJ1qw1g"
      },
      "source": [
        "Check for NAs"
      ]
    },
    {
      "cell_type": "code",
      "metadata": {
        "id": "TYnF_6mY7Lrn",
        "colab": {
          "base_uri": "https://localhost:8080/",
          "height": 81
        },
        "outputId": "e0e7d54a-5b0f-4185-91eb-49dabc07cebb"
      },
      "source": [
        "customer_RFM_GDP[customer_RFM_GDP.isnull().any(axis=1)]"
      ],
      "execution_count": 18,
      "outputs": [
        {
          "output_type": "execute_result",
          "data": {
            "text/html": [
              "<div>\n",
              "<style scoped>\n",
              "    .dataframe tbody tr th:only-of-type {\n",
              "        vertical-align: middle;\n",
              "    }\n",
              "\n",
              "    .dataframe tbody tr th {\n",
              "        vertical-align: top;\n",
              "    }\n",
              "\n",
              "    .dataframe thead th {\n",
              "        text-align: right;\n",
              "    }\n",
              "</style>\n",
              "<table border=\"1\" class=\"dataframe\">\n",
              "  <thead>\n",
              "    <tr style=\"text-align: right;\">\n",
              "      <th></th>\n",
              "      <th>recency</th>\n",
              "      <th>frequency</th>\n",
              "      <th>monetary_value</th>\n",
              "      <th>weighted GDP</th>\n",
              "    </tr>\n",
              "    <tr>\n",
              "      <th>Customer ID</th>\n",
              "      <th></th>\n",
              "      <th></th>\n",
              "      <th></th>\n",
              "      <th></th>\n",
              "    </tr>\n",
              "  </thead>\n",
              "  <tbody>\n",
              "  </tbody>\n",
              "</table>\n",
              "</div>"
            ],
            "text/plain": [
              "Empty DataFrame\n",
              "Columns: [recency, frequency, monetary_value, weighted GDP]\n",
              "Index: []"
            ]
          },
          "metadata": {
            "tags": []
          },
          "execution_count": 18
        }
      ]
    },
    {
      "cell_type": "markdown",
      "metadata": {
        "id": "KF_EfckZS6mE"
      },
      "source": [
        "### Customer clustering\r\n",
        "This is the section with the actual customer clustering."
      ]
    },
    {
      "cell_type": "markdown",
      "metadata": {
        "id": "stdsQDCfTJ85"
      },
      "source": [
        "#### k-Means\r\n",
        "We scale the input matrix and use the elbow method to decide the number of customer clusters."
      ]
    },
    {
      "cell_type": "code",
      "metadata": {
        "id": "Fov9l2EQYQmD",
        "colab": {
          "base_uri": "https://localhost:8080/",
          "height": 295
        },
        "outputId": "953c771c-65b4-4d3b-b2d8-113227029963"
      },
      "source": [
        "scaler = StandardScaler()\r\n",
        "X_std = scaler.fit_transform(customer_RFM_GDP)\r\n",
        "Sum_of_squared_distances = []\r\n",
        "K = range(2,13)\r\n",
        "for k in K:\r\n",
        "    km = KMeans(n_clusters=k, max_iter=5000, n_init=500, random_state=100,n_jobs= -1) \r\n",
        "    km = km.fit(X_std)\r\n",
        "    Sum_of_squared_distances.append(km.inertia_)\r\n",
        "\r\n",
        "plt.plot(K, Sum_of_squared_distances, 'bx-')\r\n",
        "plt.xlabel('k')\r\n",
        "plt.ylabel('Sum_of_squared_distances')\r\n",
        "plt.title('Elbow Method For Optimal k')\r\n",
        "plt.show()"
      ],
      "execution_count": 19,
      "outputs": [
        {
          "output_type": "display_data",
          "data": {
            "image/png": "[encoded data removed]",
            "text/plain": [
              "<Figure size 432x288 with 1 Axes>"
            ]
          },
          "metadata": {
            "tags": [],
            "needs_background": "light"
          }
        }
      ]
    },
    {
      "cell_type": "markdown",
      "metadata": {
        "id": "NinxrQrHTb5v"
      },
      "source": [
        "First, we select 3 as the number of clusters."
      ]
    },
    {
      "cell_type": "code",
      "metadata": {
        "colab": {
          "base_uri": "https://localhost:8080/"
        },
        "id": "3c11P72Et_S9",
        "outputId": "afc13634-473a-4b90-da73-fbb0dc0e5140"
      },
      "source": [
        "# set number of clusters\r\n",
        "true_k = 3\r\n",
        "# perform k-means clustering \r\n",
        "model = KMeans(n_clusters=true_k, max_iter=5000, n_init=500, random_state=100,n_jobs= -1) \r\n",
        "model.fit(X_std)\r\n",
        "# append cluster assignment for each item set\r\n",
        "customer_RFM_GDP['cluster']=model.labels_\r\n",
        "# print number of items per cluster\r\n",
        "print(customer_RFM_GDP['cluster'].value_counts())"
      ],
      "execution_count": 20,
      "outputs": [
        {
          "output_type": "stream",
          "text": [
            "0    4225\n",
            "1    1708\n",
            "2       9\n",
            "Name: cluster, dtype: int64\n"
          ],
          "name": "stdout"
        }
      ]
    },
    {
      "cell_type": "markdown",
      "metadata": {
        "id": "Mhe1hnhaTsHT"
      },
      "source": [
        "Function cluster_profile_RFM_country will be used to profile clusters. There is a cut off parameter that can be used to exclude from the profilling clusters with small cardinality."
      ]
    },
    {
      "cell_type": "code",
      "metadata": {
        "id": "poHl8wpFDzNz"
      },
      "source": [
        "def cluster_profile_RFM_country(customer_clustering,cut_off=0):\r\n",
        "  ''' profile clusters '''\r\n",
        "\r\n",
        "  customer_clusters=customer_clustering.reset_index().groupby(['cluster']).agg({'Customer ID':['count'], \r\n",
        "                                                         'recency':'median',\r\n",
        "                                                         'frequency':'median',\r\n",
        "                                                         'monetary_value':'median',\r\n",
        "                                                         'weighted GDP':'median'})\r\n",
        "  idx= customer_clusters['Customer ID']>=cut_off\r\n",
        "  idx=idx['count'].to_list()\r\n",
        "  customer_clusters=customer_clusters[idx]\r\n",
        "  print(customer_clusters)\r\n",
        "  print('\\n')\r\n",
        "  customer_clusters_sum=customer_clusters.sum(axis=0)\r\n",
        "  #print(customer_clusters_sum)\r\n",
        "  customer_clusters['monetary_value']=100*customer_clusters['monetary_value']/customer_clusters_sum['monetary_value']\r\n",
        "  customer_clusters['frequency']=100*customer_clusters['frequency']/customer_clusters_sum['frequency']\r\n",
        "  customer_clusters['recency']=100*customer_clusters['recency']/customer_clusters_sum['recency']\r\n",
        "  customer_clusters['weighted GDP']=100*customer_clusters['weighted GDP']/customer_clusters_sum['weighted GDP']\r\n",
        "  print(customer_clusters)\r\n",
        "  print('\\n')\r\n",
        "  \r\n",
        "  print('HEAT map')\r\n",
        "  print('Numbers are column percentages')\r\n",
        "  sns.heatmap(customer_clusters.drop(['Customer ID'],axis=1), annot=True,  linewidths=.5)\r\n"
      ],
      "execution_count": 21,
      "outputs": []
    },
    {
      "cell_type": "markdown",
      "metadata": {
        "id": "ML3dHWIeqDct"
      },
      "source": [
        "Examining the two clusters with more than 100 items, we see that:\r\n",
        "* cluster 0 contains customers that shopped more recently than cluster 1 (customers in cluster 0 shopped 9 days ago while cluster 1 91 days ago),\r\n",
        "* cluster 0 contains customers that bought less frequently than cluster 1 (customers in cluster 0 shop every 66 days while in cluster 1 every 364 days),\r\n",
        "* cluster 0 contains customers with more monetary value than cluster (cluster 0 has a median of 243 for monetary value, while cluster 1 197)\r\n"
      ]
    },
    {
      "cell_type": "code",
      "metadata": {
        "colab": {
          "base_uri": "https://localhost:8080/",
          "height": 678
        },
        "id": "DWoWvNgviR1q",
        "outputId": "b7e94613-cb5f-4452-b171-23f58d50687e"
      },
      "source": [
        "cluster_profile_RFM_country(customer_RFM_GDP,cut_off=100)"
      ],
      "execution_count": 22,
      "outputs": [
        {
          "output_type": "stream",
          "text": [
            "        Customer ID recency   frequency monetary_value weighted GDP\n",
            "              count  median      median         median       median\n",
            "cluster                                                            \n",
            "0              4225      45   65.545455         243.41    2638296.0\n",
            "1              1708     463  364.000000         196.91    2638296.0\n",
            "\n",
            "\n",
            "        Customer ID    recency  frequency monetary_value weighted GDP\n",
            "              count     median     median         median       median\n",
            "cluster                                                              \n",
            "0              4225   8.858268  15.259259      55.280251         50.0\n",
            "1              1708  91.141732  84.740741      44.719749         50.0\n",
            "\n",
            "\n",
            "HEAT map\n",
            "Numbers are column percentages\n"
          ],
          "name": "stdout"
        },
        {
          "output_type": "display_data",
          "data": {
            "image/png": "[encoded data removed]",
            "text/plain": [
              "<Figure size 432x288 with 2 Axes>"
            ]
          },
          "metadata": {
            "tags": [],
            "needs_background": "light"
          }
        }
      ]
    },
    {
      "cell_type": "markdown",
      "metadata": {
        "id": "SVzHj_xZspBY"
      },
      "source": [
        "Selecting 7 as the number of clusters, we obtain 4 clusters with cardinality bigger than 100."
      ]
    },
    {
      "cell_type": "code",
      "metadata": {
        "colab": {
          "base_uri": "https://localhost:8080/"
        },
        "id": "TMCy1yjvs87f",
        "outputId": "92fb40d2-1642-4cd3-a781-1b8234fd2fed"
      },
      "source": [
        "# set number of clusters\r\n",
        "true_k = 7\r\n",
        "# perform k-means clustering \r\n",
        "model = KMeans(n_clusters=true_k, max_iter=5000, n_init=500, random_state=100,n_jobs= -1) \r\n",
        "model.fit(X_std)\r\n",
        "# append cluster assignment for each item set\r\n",
        "customer_RFM_GDP['cluster']=model.labels_\r\n",
        "# print number of items per cluster\r\n",
        "print(customer_RFM_GDP['cluster'].value_counts())"
      ],
      "execution_count": 52,
      "outputs": [
        {
          "output_type": "stream",
          "text": [
            "2    3549\n",
            "0    1547\n",
            "4     572\n",
            "5     247\n",
            "6      17\n",
            "1       9\n",
            "3       1\n",
            "Name: cluster, dtype: int64\n"
          ],
          "name": "stdout"
        }
      ]
    },
    {
      "cell_type": "markdown",
      "metadata": {
        "id": "Qxha1ir7tkrm"
      },
      "source": [
        "Examining the two clusters with more than 100 items, we see that:\r\n",
        "* clusters 2 and 5 contain more frequent customers, wich shop more frequently and their invoice have greter monetary vlaue,\r\n",
        "* cluster 5 contains customers from countries with lower GDP than the rest of the clusters\r\n",
        "* cluster 4 has the customers with the lowest RFM score."
      ]
    },
    {
      "cell_type": "code",
      "metadata": {
        "colab": {
          "base_uri": "https://localhost:8080/",
          "height": 748
        },
        "id": "1LxJYlcmivVR",
        "outputId": "5316289a-7c59-4a5b-e36d-527311c6d35d"
      },
      "source": [
        "cluster_profile_RFM_country(customer_RFM_GDP,cut_off=100)"
      ],
      "execution_count": 53,
      "outputs": [
        {
          "output_type": "stream",
          "text": [
            "        Customer ID recency   frequency monetary_value weighted GDP\n",
            "              count  median      median         median       median\n",
            "cluster                                                            \n",
            "0              1547     389  227.333333     204.902500    2638296.0\n",
            "2              3549      35   58.666667     243.840000    2638296.0\n",
            "4               572     619  603.500000     166.050000    2638296.0\n",
            "5               247      79   92.125000     393.990625     503416.0\n",
            "\n",
            "\n",
            "        Customer ID    recency  frequency monetary_value weighted GDP\n",
            "              count     median     median         median       median\n",
            "cluster                                                              \n",
            "0              1547  34.670232  23.158878      20.311848    31.339994\n",
            "2              3549   3.119430   5.976485      24.171697    31.339994\n",
            "4               572  55.169340  61.479689      16.460426    31.339994\n",
            "5               247   7.040998   9.384948      39.056029     5.980017\n",
            "\n",
            "\n",
            "HEAT map\n",
            "Numbers are column percentages\n"
          ],
          "name": "stdout"
        },
        {
          "output_type": "display_data",
          "data": {
            "image/png": "[encoded data removed]",
            "text/plain": [
              "<Figure size 432x288 with 2 Axes>"
            ]
          },
          "metadata": {
            "tags": [],
            "needs_background": "light"
          }
        }
      ]
    },
    {
      "cell_type": "markdown",
      "metadata": {
        "id": "hx_fgqWy3HDC"
      },
      "source": [
        "We store results of k-means clusterig with 7 clusters."
      ]
    },
    {
      "cell_type": "code",
      "metadata": {
        "id": "1RWBYRBNlHFm"
      },
      "source": [
        "customer_RFM_GDP_k_Means=customer_RFM_GDP.copy()"
      ],
      "execution_count": 54,
      "outputs": []
    },
    {
      "cell_type": "markdown",
      "metadata": {
        "id": "pgJfkPNIUkBi"
      },
      "source": [
        "#### Hierachical clustering\r\n",
        "Using hierachical clustering we can gain a better understanding of the possible number of clusters."
      ]
    },
    {
      "cell_type": "code",
      "metadata": {
        "colab": {
          "base_uri": "https://localhost:8080/",
          "height": 896
        },
        "id": "52hr_tOWlWWZ",
        "outputId": "97f5a446-0b70-4e1b-f3dc-3ceafa806f14"
      },
      "source": [
        "# source https://scikit-learn.org/stable/auto_examples/cluster/plot_agglomerative_dendrogram.html\r\n",
        "def plot_dendrogram(model, **kwargs):\r\n",
        "    # Create linkage matrix and then plot the dendrogram\r\n",
        "\r\n",
        "    # create the counts of samples under each node\r\n",
        "    counts = np.zeros(model.children_.shape[0])\r\n",
        "    n_samples = len(model.labels_)\r\n",
        "    for i, merge in enumerate(model.children_):\r\n",
        "        current_count = 0\r\n",
        "        for child_idx in merge:\r\n",
        "            if child_idx < n_samples:\r\n",
        "                current_count += 1  # leaf node\r\n",
        "            else:\r\n",
        "                current_count += counts[child_idx - n_samples]\r\n",
        "        counts[i] = current_count\r\n",
        "\r\n",
        "    linkage_matrix = np.column_stack([model.children_, model.distances_,\r\n",
        "                                      counts]).astype(float)\r\n",
        "\r\n",
        "    # Plot the corresponding dendrogram\r\n",
        "    dendrogram(linkage_matrix, **kwargs)\r\n",
        "\r\n",
        "\r\n",
        "\r\n",
        "# setting distance_threshold=0 ensures we compute the full tree.\r\n",
        "model = AgglomerativeClustering(distance_threshold=0, n_clusters=None,linkage='ward')\r\n",
        "\r\n",
        "model = model.fit(X_std)\r\n",
        "plt.figure(figsize=(15,15))\r\n",
        "plt.title('Hierarchical Clustering Dendrogram')\r\n",
        "# plot the top three levels of the dendrogram\r\n",
        "plot_dendrogram(model, truncate_mode='level', p=3)\r\n",
        "plt.xlabel(\"Number of points in node (or index of point if no parenthesis).\")\r\n",
        "plt.show()"
      ],
      "execution_count": 55,
      "outputs": [
        {
          "output_type": "display_data",
          "data": {
            "image/png": "[encoded data removed]",
            "text/plain": [
              "<Figure size 1080x1080 with 1 Axes>"
            ]
          },
          "metadata": {
            "tags": [],
            "needs_background": "light"
          }
        }
      ]
    },
    {
      "cell_type": "markdown",
      "metadata": {
        "id": "5Ooq3tdqU9wl"
      },
      "source": [
        "Examining the two clustering solution of hierachical clustering, we see that we end up with clusters similiar to the two major clusters of our first k-means try. "
      ]
    },
    {
      "cell_type": "code",
      "metadata": {
        "id": "YshCmnV1uyVB",
        "colab": {
          "base_uri": "https://localhost:8080/"
        },
        "outputId": "008f1bcd-7527-43c1-9af7-1dff5c20c2cf"
      },
      "source": [
        "model = AgglomerativeClustering(n_clusters=2,linkage='ward')\r\n",
        "model.fit(X_std)\r\n",
        "# append cluster assignment for each item set\r\n",
        "customer_RFM_GDP['cluster']=model.labels_\r\n",
        "# print number of items per cluster\r\n",
        "print(customer_RFM_GDP['cluster'].value_counts())"
      ],
      "execution_count": 56,
      "outputs": [
        {
          "output_type": "stream",
          "text": [
            "1    4151\n",
            "0    1791\n",
            "Name: cluster, dtype: int64\n"
          ],
          "name": "stdout"
        }
      ]
    },
    {
      "cell_type": "code",
      "metadata": {
        "colab": {
          "base_uri": "https://localhost:8080/",
          "height": 678
        },
        "id": "odfN9KUhBiXF",
        "outputId": "a36a208f-20be-414f-def1-73df51102d77"
      },
      "source": [
        "cluster_profile_RFM_country(customer_RFM_GDP,cut_off=100)"
      ],
      "execution_count": 57,
      "outputs": [
        {
          "output_type": "stream",
          "text": [
            "        Customer ID recency frequency monetary_value weighted GDP\n",
            "              count  median    median         median       median\n",
            "cluster                                                          \n",
            "0              1791     446     336.5     196.016667    2638296.0\n",
            "1              4151      43      64.0     244.800000    2638296.0\n",
            "\n",
            "\n",
            "        Customer ID    recency  frequency monetary_value weighted GDP\n",
            "              count     median     median         median       median\n",
            "cluster                                                              \n",
            "0              1791  91.206544  84.019975       44.46671         50.0\n",
            "1              4151   8.793456  15.980025       55.53329         50.0\n",
            "\n",
            "\n",
            "HEAT map\n",
            "Numbers are column percentages\n"
          ],
          "name": "stdout"
        },
        {
          "output_type": "display_data",
          "data": {
            "image/png": "[encoded data removed]",
            "text/plain": [
              "<Figure size 432x288 with 2 Axes>"
            ]
          },
          "metadata": {
            "tags": [],
            "needs_background": "light"
          }
        }
      ]
    },
    {
      "cell_type": "markdown",
      "metadata": {
        "id": "RG8Gy36M4tVe"
      },
      "source": [
        "The same applies when we try with 7 clusters in hierachical clustering. The results are similar to k-means."
      ]
    },
    {
      "cell_type": "code",
      "metadata": {
        "colab": {
          "base_uri": "https://localhost:8080/"
        },
        "id": "hDce9mrO4cHY",
        "outputId": "88be75b0-e911-4256-fb63-03c156ab35e5"
      },
      "source": [
        "model = AgglomerativeClustering(n_clusters=7,linkage='ward')\r\n",
        "model.fit(X_std)\r\n",
        "# append cluster assignment for each item set\r\n",
        "customer_RFM_GDP['cluster']=model.labels_\r\n",
        "# print number of items per cluster\r\n",
        "print(customer_RFM_GDP['cluster'].value_counts())\r\n",
        "#cluster_profile_RFM_country(customer_RFM_GDP,cut_off=100)"
      ],
      "execution_count": 58,
      "outputs": [
        {
          "output_type": "stream",
          "text": [
            "0    3867\n",
            "4    1275\n",
            "1     506\n",
            "6     269\n",
            "2      15\n",
            "5       9\n",
            "3       1\n",
            "Name: cluster, dtype: int64\n"
          ],
          "name": "stdout"
        }
      ]
    },
    {
      "cell_type": "markdown",
      "metadata": {
        "id": "a0SJXWjz4568"
      },
      "source": [
        "We will store the results of k-means clustering into 7 clusters."
      ]
    },
    {
      "cell_type": "code",
      "metadata": {
        "id": "fTpTNxKXLGxH"
      },
      "source": [
        "customer_RFM_GDP_k_Means.to_pickle('customer_segments_RFM_country.pickle')\r\n",
        "# load with\r\n",
        "# customer_spending_per_category = pd.read_pickle(file_name)"
      ],
      "execution_count": 60,
      "outputs": []
    },
    {
      "cell_type": "code",
      "metadata": {
        "id": "b8vx7h3UNFIA",
        "colab": {
          "base_uri": "https://localhost:8080/",
          "height": 17
        },
        "outputId": "ef5057bd-c348-4ead-e647-0dbb01153026"
      },
      "source": [
        "from google.colab import files\r\n",
        "files.download('customer_segments_RFM_country.pickle') "
      ],
      "execution_count": 62,
      "outputs": [
        {
          "output_type": "display_data",
          "data": {
            "application/javascript": [
              "\n",
              "    async function download(id, filename, size) {\n",
              "      if (!google.colab.kernel.accessAllowed) {\n",
              "        return;\n",
              "      }\n",
              "      const div = document.createElement('div');\n",
              "      const label = document.createElement('label');\n",
              "      label.textContent = `Downloading \"${filename}\": `;\n",
              "      div.appendChild(label);\n",
              "      const progress = document.createElement('progress');\n",
              "      progress.max = size;\n",
              "      div.appendChild(progress);\n",
              "      document.body.appendChild(div);\n",
              "\n",
              "      const buffers = [];\n",
              "      let downloaded = 0;\n",
              "\n",
              "      const channel = await google.colab.kernel.comms.open(id);\n",
              "      // Send a message to notify the kernel that we're ready.\n",
              "      channel.send({})\n",
              "\n",
              "      for await (const message of channel.messages) {\n",
              "        // Send a message to notify the kernel that we're ready.\n",
              "        channel.send({})\n",
              "        if (message.buffers) {\n",
              "          for (const buffer of message.buffers) {\n",
              "            buffers.push(buffer);\n",
              "            downloaded += buffer.byteLength;\n",
              "            progress.value = downloaded;\n",
              "          }\n",
              "        }\n",
              "      }\n",
              "      const blob = new Blob(buffers, {type: 'application/binary'});\n",
              "      const a = document.createElement('a');\n",
              "      a.href = window.URL.createObjectURL(blob);\n",
              "      a.download = filename;\n",
              "      div.appendChild(a);\n",
              "      a.click();\n",
              "      div.remove();\n",
              "    }\n",
              "  "
            ],
            "text/plain": [
              "<IPython.core.display.Javascript object>"
            ]
          },
          "metadata": {
            "tags": []
          }
        },
        {
          "output_type": "display_data",
          "data": {
            "application/javascript": [
              "download(\"download_8ab57ad9-bce7-4b2b-bb4d-8b151c7f5a7f\", \"customer_segments_RFM_country.pickle\", 262528)"
            ],
            "text/plain": [
              "<IPython.core.display.Javascript object>"
            ]
          },
          "metadata": {
            "tags": []
          }
        }
      ]
    }
  ]
}