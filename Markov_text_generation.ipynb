{
  "nbformat": 4,
  "nbformat_minor": 0,
  "metadata": {
    "colab": {
      "name": "Markov text generation.ipynb",
      "provenance": [],
      "collapsed_sections": [],
      "authorship_tag": "ABX9TyOEVVibrdnwZxW+wjB0OaWs",
      "include_colab_link": true
    },
    "kernelspec": {
      "name": "python3",
      "display_name": "Python 3"
    }
  },
  "cells": [
    {
      "cell_type": "markdown",
      "metadata": {
        "id": "view-in-github",
        "colab_type": "text"
      },
      "source": [
        "<a href=\"https://colab.research.google.com/github/dpanagop/data_analytics_examples/blob/master/Markov_text_generation.ipynb\" target=\"_parent\"><img src=\"https://colab.research.google.com/assets/colab-badge.svg\" alt=\"Open In Colab\"/></a>"
      ]
    },
    {
      "cell_type": "markdown",
      "metadata": {
        "id": "_p8TtM2IAeYR"
      },
      "source": [
        "# Text genaration using Markov chains\n",
        "\n",
        "This is a short notebook that demonstrates how to genrate text using a transition matrix."
      ]
    },
    {
      "cell_type": "code",
      "metadata": {
        "id": "LDVxdQgOz6_8"
      },
      "source": [
        "# Import libraries\n",
        "import re\n",
        "from random import random, sample"
      ],
      "execution_count": 1,
      "outputs": []
    },
    {
      "cell_type": "markdown",
      "metadata": {
        "id": "aAeVkev_Cuob"
      },
      "source": [
        "The transition matrix is defined in a class.\n",
        "Actually, we are going to use a dictionary to create what is called a sparse matix. For example the table"
      ]
    },
    {
      "cell_type": "markdown",
      "metadata": {
        "id": "pEtfPI7xHAnA"
      },
      "source": [
        "|  | (am,a) | (am,happy) | (am,it) | (nice,thing)|\n",
        "| --- | --- | --- | --- | --- |\n",
        "| (i,am) | 1 | 2 | 0 | 0 |\n",
        "((a,nice) | 0 | 0 | 0 | 3|\n"
      ]
    },
    {
      "cell_type": "markdown",
      "metadata": {
        "id": "cnC4moEwHvY4"
      },
      "source": [
        "will be represented by the dictionary:\n",
        "\n",
        "```{ \"i,am\": {\"a\":1, \"happy\":2} \n",
        "   , \"a,nice\": {\"thing\":3}\n",
        "<br>}```\n",
        "\n",
        "Note that \n",
        "- we are not adding entries for cells with zero value\n",
        "- for in keys of the columns we are using only the next word \n",
        "\n",
        "PS. The careful reader will detect that we are not using propabilities in the matrix but instead a count. We will use this counts to calculate the corresponding propabilities."
      ]
    },
    {
      "cell_type": "code",
      "metadata": {
        "id": "8M8p6-9zmYla"
      },
      "source": [
        "class TransitionMatrix:\n",
        "  \"\"\" This is the transition matrix class.\n",
        "\n",
        "  Attributes: \n",
        "      SparseMatrix a dictionary in the form \n",
        "                 key: word_1, word_2\n",
        "                 value: dictionary in form {word:integer, word:integer}\n",
        "  Methods:\n",
        "      next_word: add a tripple of word_1, word_2, word_3 in SparseMatrix\n",
        "      next_word: given a tuple word_1,word_2 generate (next) word with probapilities according to \n",
        "      dictionary corresponding to key word_1,word_2 in SparseMatrix\n",
        "  \"\"\"\n",
        "  def __init__(self):\n",
        "    self.SparseMatrix={}\n",
        "  def add_tripple(self, word1,word2,word3):\n",
        "    \"\"\" for a given tripple word1,word2,word3\n",
        "        check if word1,word2 is a key of the dictrionary\n",
        "          if true and word_3 is a key in the corresponding entry increment value of key word_3 by one\n",
        "          if true and word_3 is not a key then add word_3 as a key with value one\n",
        "        if  word1,word2 is not a key, then add a key word_1,word_2 with value {word_3:1}\n",
        "    \"\"\" \n",
        "    key=word1+\",\"+word2\n",
        "    if key in self.SparseMatrix:\n",
        "      if word3 in self.SparseMatrix[key]:\n",
        "        self.SparseMatrix[key][word3]=self.SparseMatrix[key][word3]+1\n",
        "      else:\n",
        "        self.SparseMatrix[key][word3]=1\n",
        "    else:\n",
        "      self.SparseMatrix[key]={word3:1}\n",
        "  def next_word(self,word1,word2):\n",
        "    \"\"\" generate next word for tuple word_1,word_2\n",
        "        if word_1,word_2 is a key, then\n",
        "           retrive the corresponding dictionary and based on it pick randomly a word\n",
        "           see https://stackoverflow.com/questions/2570690/python-algorithm-to-randomly-select-a-key-based-on-proportionality-weight\n",
        "        if word_1,word_2 is not a key, then select randomly from list [\".\",\"hence\",\"thus\",\"i\"]\n",
        "    \"\"\"\n",
        "    key=word1+\",\"+word2\n",
        "    if key in self.SparseMatrix:\n",
        "      count=sum(self.SparseMatrix[key].values())\n",
        "      rand_val = count*random()\n",
        "      total = 0\n",
        "      for word,idx in self.SparseMatrix[key].items():\n",
        "        total += idx\n",
        "        if rand_val <= total:\n",
        "            return word\n",
        "    else:\n",
        "      return sample([\".\",\",\",\"and\"],1)[0]"
      ],
      "execution_count": 2,
      "outputs": []
    },
    {
      "cell_type": "markdown",
      "metadata": {
        "id": "bPTZIa-YJkoh"
      },
      "source": [
        "Example"
      ]
    },
    {
      "cell_type": "code",
      "metadata": {
        "colab": {
          "base_uri": "https://localhost:8080/"
        },
        "id": "fzKtEEoCp-f0",
        "outputId": "edd910f7-320c-4d70-d433-5a430004cca2"
      },
      "source": [
        "# Assign classt to transitiontest and print contents\n",
        "transitiontest=TransitionMatrix()\n",
        "print(transitiontest.SparseMatrix)\n",
        "# Add the tripple (i,am,a) \n",
        "transitiontest.add_tripple(\"i\",\"am\",\"a\")\n",
        "print(transitiontest.SparseMatrix)\n",
        "# Increment count of tripple (i,am,a)\n",
        "transitiontest.add_tripple(\"i\",\"am\",\"a\")\n",
        "print(transitiontest.SparseMatrix)\n",
        "# Add trpple (i,am,happy)\n",
        "transitiontest.add_tripple(\"i\",\"am\",\"happy\")\n",
        "print(transitiontest.SparseMatrix)"
      ],
      "execution_count": 3,
      "outputs": [
        {
          "output_type": "stream",
          "text": [
            "{}\n",
            "{'i,am': {'a': 1}}\n",
            "{'i,am': {'a': 2}}\n",
            "{'i,am': {'a': 2, 'happy': 1}}\n"
          ],
          "name": "stdout"
        }
      ]
    },
    {
      "cell_type": "code",
      "metadata": {
        "colab": {
          "base_uri": "https://localhost:8080/"
        },
        "id": "ip_918ohwInm",
        "outputId": "c3486c11-14f8-4e6b-858b-ecba9d2e432e"
      },
      "source": [
        "# Genrate next word\n",
        "print(f'Next word for \"i,am\" :{transitiontest.next_word(\"i\",\"am\")}')\n",
        "print(f'Next word for \"you,are\": {transitiontest.next_word(\"you\",\"are\")}. Note \"you,are\" is not contained in keys')"
      ],
      "execution_count": 4,
      "outputs": [
        {
          "output_type": "stream",
          "text": [
            "Next word for \"i,am\" :happy\n",
            "Next word for \"you,are\": and. Note \"you,are\" is not contained in keys\n"
          ],
          "name": "stdout"
        }
      ]
    },
    {
      "cell_type": "markdown",
      "metadata": {
        "id": "FLBiOA1qN0WF"
      },
      "source": [
        "## Text preprocessing\n",
        "We will need to preprocess the text input.\n",
        "Specificaly, we:\n",
        "- convert to lowwercase\n",
        "- remove special charaacters\n",
        "- remove extra spacing\n",
        "\n",
        "to this end, we define ```preprocess_sentence``` function"
      ]
    },
    {
      "cell_type": "code",
      "metadata": {
        "id": "R_LoPOVZ0ddd"
      },
      "source": [
        "def preprocess_sentence(sentence):\n",
        "  sentence=sentence.lower()\n",
        "  sentence=re.sub(r\"[^\\w\\d.!?\\s]+\",'',sentence)\n",
        "  sentence=re.sub('([.,!?])', r' \\1 ', sentence)\n",
        "  sentence = re.sub('\\s{2,}', ' ', sentence)\n",
        "  return sentence"
      ],
      "execution_count": 5,
      "outputs": []
    },
    {
      "cell_type": "markdown",
      "metadata": {
        "id": "lHH8Wi2ZPbKF"
      },
      "source": [
        "For creating the matrix, we are going to use texts from [Gutenberg Project](www.gutenberg.org)."
      ]
    },
    {
      "cell_type": "code",
      "metadata": {
        "colab": {
          "base_uri": "https://localhost:8080/"
        },
        "id": "yilIVwVuKZ0B",
        "outputId": "4fe1c4d4-351c-403a-925f-5407894584bb"
      },
      "source": [
        "!wget http://www.gutenberg.org/cache/epub/28/pg28.txt #Aesop's Fables, by Aesop\n",
        "!wget https://www.gutenberg.org/files/1727/1727-0.txt #The Odyssey, by Homer\n",
        "!wget http://www.gutenberg.org/files/6130/6130-0.txt #The Iliad, by Homer"
      ],
      "execution_count": 6,
      "outputs": [
        {
          "output_type": "stream",
          "text": [
            "--2020-12-05 05:24:55--  http://www.gutenberg.org/cache/epub/28/pg28.txt\n",
            "Resolving www.gutenberg.org (www.gutenberg.org)... 152.19.134.47, 2610:28:3090:3000:0:bad:cafe:47\n",
            "Connecting to www.gutenberg.org (www.gutenberg.org)|152.19.134.47|:80... connected.\n",
            "HTTP request sent, awaiting response... 200 OK\n",
            "Length: 86418 (84K) [text/plain]\n",
            "Saving to: ‘pg28.txt.1’\n",
            "\n",
            "pg28.txt.1          100%[===================>]  84.39K   310KB/s    in 0.3s    \n",
            "\n",
            "2020-12-05 05:24:55 (310 KB/s) - ‘pg28.txt.1’ saved [86418/86418]\n",
            "\n",
            "--2020-12-05 05:24:55--  https://www.gutenberg.org/files/1727/1727-0.txt\n",
            "Resolving www.gutenberg.org (www.gutenberg.org)... 152.19.134.47, 2610:28:3090:3000:0:bad:cafe:47\n",
            "Connecting to www.gutenberg.org (www.gutenberg.org)|152.19.134.47|:443... connected.\n",
            "HTTP request sent, awaiting response... 200 OK\n",
            "Length: 718181 (701K) [text/plain]\n",
            "Saving to: ‘1727-0.txt.1’\n",
            "\n",
            "1727-0.txt.1        100%[===================>] 701.35K   672KB/s    in 1.0s    \n",
            "\n",
            "2020-12-05 05:24:57 (672 KB/s) - ‘1727-0.txt.1’ saved [718181/718181]\n",
            "\n",
            "--2020-12-05 05:24:57--  http://www.gutenberg.org/files/6130/6130-0.txt\n",
            "Resolving www.gutenberg.org (www.gutenberg.org)... 152.19.134.47, 2610:28:3090:3000:0:bad:cafe:47\n",
            "Connecting to www.gutenberg.org (www.gutenberg.org)|152.19.134.47|:80... connected.\n",
            "HTTP request sent, awaiting response... 200 OK\n",
            "Length: 1161898 (1.1M) [text/plain]\n",
            "Saving to: ‘6130-0.txt.1’\n",
            "\n",
            "6130-0.txt.1        100%[===================>]   1.11M   968KB/s    in 1.2s    \n",
            "\n",
            "2020-12-05 05:24:58 (968 KB/s) - ‘6130-0.txt.1’ saved [1161898/1161898]\n",
            "\n"
          ],
          "name": "stdout"
        }
      ]
    },
    {
      "cell_type": "code",
      "metadata": {
        "colab": {
          "base_uri": "https://localhost:8080/"
        },
        "id": "KN0yEiMHVekw",
        "outputId": "6177a0a1-c6ef-4669-99ba-317764352779"
      },
      "source": [
        "#Assign class TransitionMatrix to markov_matrix\n",
        "Greeks_matrix=TransitionMatrix()\n",
        "Greeks=['pg28.txt','1727-0.txt','6130-0.txt']\n",
        "for FileName in Greeks:\n",
        "  print(f'Processing {FileName}')\n",
        "  # Open file\n",
        "  with open(FileName) as f:\n",
        "    content = f.readlines()\n",
        "    #remove whitespace characters like `\\n` at the end of each line\n",
        "    content = [x.strip() for x in content]\n",
        "    content = [x.strip() for x in content if x!=\"\"]\n",
        "  # Process file\n",
        "  for text in content:\n",
        "    doc=preprocess_sentence(text)\n",
        "    doc=doc.split()\n",
        "    l=len(doc)\n",
        "    for i in range(2,l):\n",
        "      Greeks_matrix.add_tripple(doc[i-2],doc[i-1],doc[i])"
      ],
      "execution_count": 7,
      "outputs": [
        {
          "output_type": "stream",
          "text": [
            "Processing pg28.txt\n",
            "Processing 1727-0.txt\n",
            "Processing 6130-0.txt\n"
          ],
          "name": "stdout"
        }
      ]
    },
    {
      "cell_type": "markdown",
      "metadata": {
        "id": "oqaJnnikSCfM"
      },
      "source": [
        "Finally, generate text"
      ]
    },
    {
      "cell_type": "code",
      "metadata": {
        "colab": {
          "base_uri": "https://localhost:8080/"
        },
        "id": "HQRUCzzfO18N",
        "outputId": "a818874c-03aa-4869-aa8b-9cb03ba6eb30"
      },
      "source": [
        "word1=\"it\"\n",
        "word2=\"is\"\n",
        "story=word1+\" \"+word2\n",
        "for i in range(50):\n",
        "  new_word=Greeks_matrix.next_word(word1,word2)\n",
        "  story=story+\" \"+new_word\n",
        "  if new_word==\".\":\n",
        "    print(story)\n",
        "    story=\"\"\n",
        "  word1=word2\n",
        "  word2=new_word\n",
        "print(story)"
      ],
      "execution_count": 11,
      "outputs": [
        {
          "output_type": "stream",
          "text": [
            "it is enchanted and you can easily find another seat near telemachus he said to her ships and shelters there .\n",
            " the writer as stretching all and you do or cause to fight for the soil .\n",
            " he fenced the raft .\n",
            " at last they shall have plenty of it but by\n"
          ],
          "name": "stdout"
        }
      ]
    },
    {
      "cell_type": "code",
      "metadata": {
        "colab": {
          "base_uri": "https://localhost:8080/"
        },
        "id": "ENX3sUhBSn3P",
        "outputId": "3470fdeb-ec1e-49fa-c4ee-a81eb4f6c20e"
      },
      "source": [
        "!wget http://www.gutenberg.org/files/2600/2600-0.txt #War and Peace, by Leo Tolstoy\n",
        "!wget http://www.gutenberg.org/files/1399/1399-0.txt #Anna Karenina, by Leo Tolstoy\n",
        "!wget http://www.gutenberg.org/cache/epub/4761/pg4761.txt #The Cossacks, by Leo Tolstoy"
      ],
      "execution_count": 12,
      "outputs": [
        {
          "output_type": "stream",
          "text": [
            "--2020-12-05 05:25:20--  http://www.gutenberg.org/files/2600/2600-0.txt\n",
            "Resolving www.gutenberg.org (www.gutenberg.org)... 152.19.134.47, 2610:28:3090:3000:0:bad:cafe:47\n",
            "Connecting to www.gutenberg.org (www.gutenberg.org)|152.19.134.47|:80... connected.\n",
            "HTTP request sent, awaiting response... 200 OK\n",
            "Length: 3359584 (3.2M) [text/plain]\n",
            "Saving to: ‘2600-0.txt.2’\n",
            "\n",
            "2600-0.txt.2        100%[===================>]   3.20M  1.99MB/s    in 1.6s    \n",
            "\n",
            "2020-12-05 05:25:22 (1.99 MB/s) - ‘2600-0.txt.2’ saved [3359584/3359584]\n",
            "\n",
            "--2020-12-05 05:25:22--  http://www.gutenberg.org/files/1399/1399-0.txt\n",
            "Resolving www.gutenberg.org (www.gutenberg.org)... 152.19.134.47, 2610:28:3090:3000:0:bad:cafe:47\n",
            "Connecting to www.gutenberg.org (www.gutenberg.org)|152.19.134.47|:80... connected.\n",
            "HTTP request sent, awaiting response... 200 OK\n",
            "Length: 2068079 (2.0M) [text/plain]\n",
            "Saving to: ‘1399-0.txt.2’\n",
            "\n",
            "1399-0.txt.2        100%[===================>]   1.97M  1.30MB/s    in 1.5s    \n",
            "\n",
            "2020-12-05 05:25:24 (1.30 MB/s) - ‘1399-0.txt.2’ saved [2068079/2068079]\n",
            "\n",
            "--2020-12-05 05:25:24--  http://www.gutenberg.org/cache/epub/4761/pg4761.txt\n",
            "Resolving www.gutenberg.org (www.gutenberg.org)... 152.19.134.47, 2610:28:3090:3000:0:bad:cafe:47\n",
            "Connecting to www.gutenberg.org (www.gutenberg.org)|152.19.134.47|:80... connected.\n",
            "HTTP request sent, awaiting response... 200 OK\n",
            "Length: 370896 (362K) [text/plain]\n",
            "Saving to: ‘pg4761.txt.2’\n",
            "\n",
            "pg4761.txt.2        100%[===================>] 362.20K   492KB/s    in 0.7s    \n",
            "\n",
            "2020-12-05 05:25:25 (492 KB/s) - ‘pg4761.txt.2’ saved [370896/370896]\n",
            "\n"
          ],
          "name": "stdout"
        }
      ]
    },
    {
      "cell_type": "code",
      "metadata": {
        "colab": {
          "base_uri": "https://localhost:8080/"
        },
        "id": "59r5gk7pUsSw",
        "outputId": "86257cbd-c405-46d5-b3e6-0f29598102ce"
      },
      "source": [
        "#Assign class TransitionMatrix to markov_matrix\n",
        "Tolstoy_matrix=TransitionMatrix()\n",
        "Tolstoy=['2600-0.txt','1399-0.txt','pg4761.txt']\n",
        "for FileName in Tolstoy:\n",
        "  print(f'Processing {FileName}')\n",
        "  # Open file\n",
        "  with open(FileName) as f:\n",
        "    content = f.readlines()\n",
        "    #remove whitespace characters like `\\n` at the end of each line\n",
        "    content = [x.strip() for x in content]\n",
        "    content = [x.strip() for x in content if x!=\"\"]\n",
        "  # Process file\n",
        "  for text in content:\n",
        "    doc=preprocess_sentence(text)\n",
        "    doc=doc.split()\n",
        "    l=len(doc)\n",
        "    for i in range(2,l):\n",
        "      Tolstoy_matrix.add_tripple(doc[i-2],doc[i-1],doc[i])"
      ],
      "execution_count": 13,
      "outputs": [
        {
          "output_type": "stream",
          "text": [
            "Processing 2600-0.txt\n",
            "Processing 1399-0.txt\n",
            "Processing pg4761.txt\n"
          ],
          "name": "stdout"
        }
      ]
    },
    {
      "cell_type": "code",
      "metadata": {
        "colab": {
          "base_uri": "https://localhost:8080/"
        },
        "id": "nlt60GI9Wjcj",
        "outputId": "2c785278-5a02-44d0-d467-55ea6ba77e20"
      },
      "source": [
        "word1=\"it\"\n",
        "word2=\"is\"\n",
        "story=word1+\" \"+word2\n",
        "for i in range(50):\n",
        "  new_word=Tolstoy_matrix.next_word(word1,word2)\n",
        "  story=story+\" \"+new_word\n",
        "  if new_word==\".\":\n",
        "    print(story)\n",
        "    story=\"\"\n",
        "  word1=word2\n",
        "  word2=new_word\n",
        "print(story)"
      ],
      "execution_count": 16,
      "outputs": [
        {
          "output_type": "stream",
          "text": [
            "it is really ended ? i am an exception .\n",
            " .\n",
            " but being with nature seeing her patient smiling face and rigid .\n",
            " only when they came to a longstanding impression related to the war of 1815 alexander possesses all .\n",
            " he could not make out something black .\n",
            " pierre received one\n"
          ],
          "name": "stdout"
        }
      ]
    }
  ]
}