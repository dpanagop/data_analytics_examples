{
 "cells": [
  {
   "cell_type": "code",
   "execution_count": 1,
   "metadata": {},
   "outputs": [],
   "source": [
    "# Importing necessary libraries\n",
    "import requests\n",
    "import pandas as pd\n",
    "from bs4 import BeautifulSoup\n",
    "import re"
   ]
  },
  {
   "cell_type": "code",
   "execution_count": 190,
   "metadata": {},
   "outputs": [],
   "source": [
    "# Queries\n",
    "# Fetch 50 articles in Mathematics from 2022-03-01 to 2022-03-07\n",
    "# query = 'https://arxiv.org/search/advanced?advanced=1&terms-0-operator=AND&terms-0-term=&terms-0-field=title&classification-mathematics=y&classification-physics_archives=all&classification-include_cross_list=include&date-year=&date-filter_by=date_range&date-from_date=2022-03-01&date-to_date=2022-03-07&date-date_type=submitted_date&abstracts=show&order=-announced_date_first'\n",
    "# Fetch 200 (this is the maximum) articles in Mathematics from 2022-03-01 to 2022-03-07\n",
    "query = 'https://arxiv.org/search/advanced?advanced=1&terms-0-term=&terms-0-operator=AND&terms-0-field=title&classification-mathematics=y&classification-physics_archives=all&classification-include_cross_list=include&date-filter_by=date_range&date-year=&date-from_date=2022-03-01&date-to_date=2022-03-07&date-date_type=submitted_date&abstracts=show&size=200&order=-announced_date_first'\n",
    "# Fetch next 200 articles in Mathematics from 2022-03-01 to 2022-03-01 (same date)\n",
    "# query = 'https://arxiv.org/search/advanced?advanced=&terms-0-operator=AND&terms-0-term=&terms-0-field=title&classification-mathematics=y&classification-physics_archives=all&classification-include_cross_list=include&date-filter_by=past_12&date-year=&date-from_date=2022-03-01&date-to_date=2022-03-01&date-date_type=submitted_date&abstracts=show&size=200&order=-announced_date_first&start=200'"
   ]
  },
  {
   "cell_type": "code",
   "execution_count": 191,
   "metadata": {},
   "outputs": [],
   "source": [
    "page = requests.get(query)\n",
    "soup = BeautifulSoup(page.content, 'html.parser')"
   ]
  },
  {
   "cell_type": "code",
   "execution_count": 248,
   "metadata": {
    "scrolled": false
   },
   "outputs": [],
   "source": [
    "arxiv_id_list = []\n",
    "title_list = []\n",
    "authors_list = []\n",
    "classification_list = []\n",
    "classification_detailed_list= []\n",
    "for article in soup.find_all('li',{'class':\"arxiv-result\"}):\n",
    "    arxiv_id = article.find_all('p',{'class':\"list-title is-inline-block\"}) \n",
    "    arxiv_id = arxiv_id[0].find_all('a',href=True)[0].get_text()\n",
    "    title = article.find_all('p',{'class':\"title is-5 mathjax\"})\n",
    "    title = title[0].get_text()\n",
    "    title = title.strip()\n",
    "    authors=article.find_all('p',{'class':\"authors\"})\n",
    "    authors = [x.get_text().strip() for x in authors[0].find_all('a')]\n",
    "    comments = article.find_all('p',{'class':\"comments is-size-7\"})\n",
    "    classification_primary = article.find_all('span',{'class':'tag is-small is-link tooltip is-tooltip-top'})[0].attrs.get('data-tooltip')\n",
    "    classification_secondary =  article.find_all('span',{'class':'tag is-small is-grey tooltip is-tooltip-top'})\n",
    "    if len(classification_secondary)>0:\n",
    "        classification_secondary = classification_secondary[0].attrs.get('data-tooltip')\n",
    "        classification = [classification_primary,classification_secondary]\n",
    "    else:\n",
    "        classification = [classification_primary]\n",
    "    if len(comments)>0 :\n",
    "        comments = comments[0].get_text()\n",
    "        classification_detailed = re.search('MSC Class:\\n(.*)\\n',comments)\n",
    "        if classification_detailed != None:\n",
    "            classification_detailed = classification_detailed.group(1)\n",
    "            classification_detailed = classification_detailed.strip().split(sep=';')\n",
    "        else :\n",
    "            classification_detailed = ['N/A']\n",
    "        #print(title)\n",
    "        #print(authors)\n",
    "        #print(classification)\n",
    "        #print(100*'-')\n",
    "    arxiv_id_list.append(arxiv_id)\n",
    "    title_list.append(title)\n",
    "    authors_list.append(authors)\n",
    "    classification_list.append(classification)\n",
    "    classification_detailed_list.append(classification_detailed)"
   ]
  },
  {
   "cell_type": "code",
   "execution_count": 250,
   "metadata": {},
   "outputs": [],
   "source": [
    "df = pd.DataFrame({'airxv_id':arxiv_id_list,\n",
    "                  'title':title_list,\n",
    "                  'authors':authors_list,\n",
    "                  'classification':classification_list,\n",
    "                  'classification_detailed':classification_detailed_list})"
   ]
  },
  {
   "cell_type": "code",
   "execution_count": 251,
   "metadata": {},
   "outputs": [
    {
     "data": {
      "text/html": [
       "<div>\n",
       "<style scoped>\n",
       "    .dataframe tbody tr th:only-of-type {\n",
       "        vertical-align: middle;\n",
       "    }\n",
       "\n",
       "    .dataframe tbody tr th {\n",
       "        vertical-align: top;\n",
       "    }\n",
       "\n",
       "    .dataframe thead th {\n",
       "        text-align: right;\n",
       "    }\n",
       "</style>\n",
       "<table border=\"1\" class=\"dataframe\">\n",
       "  <thead>\n",
       "    <tr style=\"text-align: right;\">\n",
       "      <th></th>\n",
       "      <th>airxv_id</th>\n",
       "      <th>title</th>\n",
       "      <th>authors</th>\n",
       "      <th>classification</th>\n",
       "      <th>classification_detailed</th>\n",
       "    </tr>\n",
       "  </thead>\n",
       "  <tbody>\n",
       "    <tr>\n",
       "      <td>0</td>\n",
       "      <td>arXiv:2203.07873</td>\n",
       "      <td>Asymptotic Fermat for signatures $(p,p,2)$ and...</td>\n",
       "      <td>[Diana Mocanu]</td>\n",
       "      <td>[Number Theory]</td>\n",
       "      <td>[11F80,  11G05,  11D41]</td>\n",
       "    </tr>\n",
       "    <tr>\n",
       "      <td>1</td>\n",
       "      <td>arXiv:2203.05018</td>\n",
       "      <td>Application of neural-network hybrid models in...</td>\n",
       "      <td>[Chentong Li, Zhou Changsheng, Junmin Liu, Yao...</td>\n",
       "      <td>[Dynamical Systems, Physics and Society]</td>\n",
       "      <td>[11F80,  11G05,  11D41]</td>\n",
       "    </tr>\n",
       "    <tr>\n",
       "      <td>2</td>\n",
       "      <td>arXiv:2203.05017</td>\n",
       "      <td>Asymmetric Duffing oscillator: jump manifold a...</td>\n",
       "      <td>[Jan Kyzioł, Andrzej Okniński]</td>\n",
       "      <td>[Dynamical Systems]</td>\n",
       "      <td>[N/A]</td>\n",
       "    </tr>\n",
       "    <tr>\n",
       "      <td>3</td>\n",
       "      <td>arXiv:2203.04148</td>\n",
       "      <td>Numerical solution of optimal control of ather...</td>\n",
       "      <td>[F. Nasresfahani, M. R. Eslahchi]</td>\n",
       "      <td>[Optimization and Control, Numerical Analysis]</td>\n",
       "      <td>[N/A]</td>\n",
       "    </tr>\n",
       "    <tr>\n",
       "      <td>4</td>\n",
       "      <td>arXiv:2203.04145</td>\n",
       "      <td>The structure of the linearizer of a connected...</td>\n",
       "      <td>[Oleg Aristov]</td>\n",
       "      <td>[Group Theory]</td>\n",
       "      <td>[N/A]</td>\n",
       "    </tr>\n",
       "  </tbody>\n",
       "</table>\n",
       "</div>"
      ],
      "text/plain": [
       "           airxv_id                                              title  \\\n",
       "0  arXiv:2203.07873  Asymptotic Fermat for signatures $(p,p,2)$ and...   \n",
       "1  arXiv:2203.05018  Application of neural-network hybrid models in...   \n",
       "2  arXiv:2203.05017  Asymmetric Duffing oscillator: jump manifold a...   \n",
       "3  arXiv:2203.04148  Numerical solution of optimal control of ather...   \n",
       "4  arXiv:2203.04145  The structure of the linearizer of a connected...   \n",
       "\n",
       "                                             authors  \\\n",
       "0                                     [Diana Mocanu]   \n",
       "1  [Chentong Li, Zhou Changsheng, Junmin Liu, Yao...   \n",
       "2                     [Jan Kyzioł, Andrzej Okniński]   \n",
       "3                  [F. Nasresfahani, M. R. Eslahchi]   \n",
       "4                                     [Oleg Aristov]   \n",
       "\n",
       "                                   classification  classification_detailed  \n",
       "0                                 [Number Theory]  [11F80,  11G05,  11D41]  \n",
       "1        [Dynamical Systems, Physics and Society]  [11F80,  11G05,  11D41]  \n",
       "2                             [Dynamical Systems]                    [N/A]  \n",
       "3  [Optimization and Control, Numerical Analysis]                    [N/A]  \n",
       "4                                  [Group Theory]                    [N/A]  "
      ]
     },
     "execution_count": 251,
     "metadata": {},
     "output_type": "execute_result"
    }
   ],
   "source": [
    "df.head()"
   ]
  },
  {
   "cell_type": "code",
   "execution_count": 195,
   "metadata": {},
   "outputs": [
    {
     "data": {
      "text/plain": [
       "200"
      ]
     },
     "execution_count": 195,
     "metadata": {},
     "output_type": "execute_result"
    }
   ],
   "source": [
    "len(df.classification)"
   ]
  },
  {
   "cell_type": "code",
   "execution_count": 196,
   "metadata": {},
   "outputs": [],
   "source": [
    "neo4j_data=[]\n",
    "for arxiv_id,title,author,classification in zip(arxiv_id_list,title_list,authors_list,classification_list):\n",
    "    neo4j_data.append({'arxiv_id':arxiv_id,'title':title,'author':author,'classification':classification})"
   ]
  },
  {
   "cell_type": "code",
   "execution_count": 197,
   "metadata": {},
   "outputs": [],
   "source": [
    "from neo4j import GraphDatabase\n",
    "host = 'bolt://localhost:7687'\n",
    "user = 'neo4j'\n",
    "password = 'arxiv'\n",
    "driver = GraphDatabase.driver(host,auth=(user, password))"
   ]
  },
  {
   "cell_type": "code",
   "execution_count": 198,
   "metadata": {},
   "outputs": [],
   "source": [
    "def run_query(query, params={}):\n",
    "    with driver.session() as session:\n",
    "        result = session.run(query, params)\n",
    "        return pd.DataFrame([r.values() for r in result], columns=result.keys())"
   ]
  },
  {
   "cell_type": "code",
   "execution_count": 199,
   "metadata": {},
   "outputs": [
    {
     "data": {
      "text/html": [
       "<div>\n",
       "<style scoped>\n",
       "    .dataframe tbody tr th:only-of-type {\n",
       "        vertical-align: middle;\n",
       "    }\n",
       "\n",
       "    .dataframe tbody tr th {\n",
       "        vertical-align: top;\n",
       "    }\n",
       "\n",
       "    .dataframe thead th {\n",
       "        text-align: right;\n",
       "    }\n",
       "</style>\n",
       "<table border=\"1\" class=\"dataframe\">\n",
       "  <thead>\n",
       "    <tr style=\"text-align: right;\">\n",
       "      <th></th>\n",
       "    </tr>\n",
       "  </thead>\n",
       "  <tbody>\n",
       "  </tbody>\n",
       "</table>\n",
       "</div>"
      ],
      "text/plain": [
       "Empty DataFrame\n",
       "Columns: []\n",
       "Index: []"
      ]
     },
     "execution_count": 199,
     "metadata": {},
     "output_type": "execute_result"
    }
   ],
   "source": [
    "run_query(\"CREATE CONSTRAINT IF NOT EXISTS ON (a:Article) ASSERT a.arxiv_id IS UNIQUE;\")\n",
    "run_query(\"CREATE CONSTRAINT IF NOT EXISTS ON (a:Author) ASSERT a.name IS UNIQUE;\")\n",
    "run_query(\"CREATE CONSTRAINT IF NOT EXISTS ON (a:classification) ASSERT a.name IS UNIQUE;\")"
   ]
  },
  {
   "cell_type": "code",
   "execution_count": 200,
   "metadata": {},
   "outputs": [],
   "source": [
    "import_pubmed_query = \"\"\"\n",
    "UNWIND $data AS row\n",
    "// Store article\n",
    "MERGE (a:Article {arxiv_id: row.arxiv_id})\n",
    "SET a.title = row.title\n",
    "// Store authors    \n",
    "FOREACH (author IN row.author  |\n",
    "    MERGE (au:Author {name: author})\n",
    "    MERGE (a)<-[:AUTHORED]-(au))\n",
    "// Store classifications\n",
    "FOREACH (class IN row.classification  |\n",
    "    MERGE (cl:classification {name: class})\n",
    "    MERGE (a)-[:BELONGS]->(cl))\n",
    "\"\"\""
   ]
  },
  {
   "cell_type": "code",
   "execution_count": 201,
   "metadata": {},
   "outputs": [],
   "source": [
    "result = run_query(import_pubmed_query, {'data': neo4j_data})"
   ]
  },
  {
   "cell_type": "code",
   "execution_count": 202,
   "metadata": {},
   "outputs": [
    {
     "data": {
      "text/plain": [
       "{'arxiv_id': 'arXiv:2203.07873',\n",
       " 'title': 'Asymptotic Fermat for signatures $(p,p,2)$ and $(p,p,3)$ over totally real fields',\n",
       " 'author': ['Diana Mocanu'],\n",
       " 'classification': ['11F80', ' 11G05', ' 11D41']}"
      ]
     },
     "execution_count": 202,
     "metadata": {},
     "output_type": "execute_result"
    }
   ],
   "source": [
    "neo4j_data[0]"
   ]
  },
  {
   "cell_type": "code",
   "execution_count": 246,
   "metadata": {},
   "outputs": [
    {
     "ename": "IndexError",
     "evalue": "list index out of range",
     "output_type": "error",
     "traceback": [
      "\u001b[1;31m---------------------------------------------------------------------------\u001b[0m",
      "\u001b[1;31mIndexError\u001b[0m                                Traceback (most recent call last)",
      "\u001b[1;32m<ipython-input-246-a1394765bd8a>\u001b[0m in \u001b[0;36m<module>\u001b[1;34m\u001b[0m\n\u001b[1;32m----> 1\u001b[1;33m \u001b[0mclassification_secondary\u001b[0m \u001b[1;33m=\u001b[0m  \u001b[0marticle\u001b[0m\u001b[1;33m.\u001b[0m\u001b[0mfind_all\u001b[0m\u001b[1;33m(\u001b[0m\u001b[1;34m'span'\u001b[0m\u001b[1;33m,\u001b[0m\u001b[1;33m{\u001b[0m\u001b[1;34m'class'\u001b[0m\u001b[1;33m:\u001b[0m\u001b[1;34m'tag is-small is-blue tooltip is-tooltip-top'\u001b[0m\u001b[1;33m}\u001b[0m\u001b[1;33m)\u001b[0m\u001b[1;33m[\u001b[0m\u001b[1;36m0\u001b[0m\u001b[1;33m]\u001b[0m\u001b[1;33m.\u001b[0m\u001b[0mattrs\u001b[0m\u001b[1;33m.\u001b[0m\u001b[0mget\u001b[0m\u001b[1;33m(\u001b[0m\u001b[1;34m'data-tooltip'\u001b[0m\u001b[1;33m)\u001b[0m\u001b[1;33m\u001b[0m\u001b[1;33m\u001b[0m\u001b[0m\n\u001b[0m",
      "\u001b[1;31mIndexError\u001b[0m: list index out of range"
     ]
    }
   ],
   "source": [
    " classification_secondary =  article.find_all('span',{'class':'tag is-small is-blue tooltip is-tooltip-top'})[0].attrs.get('data-tooltip')"
   ]
  },
  {
   "cell_type": "code",
   "execution_count": 245,
   "metadata": {},
   "outputs": [
    {
     "data": {
      "text/plain": [
       "13"
      ]
     },
     "execution_count": 245,
     "metadata": {},
     "output_type": "execute_result"
    }
   ],
   "source": [
    "len(classification_secondary)"
   ]
  },
  {
   "cell_type": "code",
   "execution_count": null,
   "metadata": {},
   "outputs": [],
   "source": []
  }
 ],
 "metadata": {
  "kernelspec": {
   "display_name": "Python 3",
   "language": "python",
   "name": "python3"
  },
  "language_info": {
   "codemirror_mode": {
    "name": "ipython",
    "version": 3
   },
   "file_extension": ".py",
   "mimetype": "text/x-python",
   "name": "python",
   "nbconvert_exporter": "python",
   "pygments_lexer": "ipython3",
   "version": "3.7.4"
  },
  "varInspector": {
   "cols": {
    "lenName": 16,
    "lenType": 16,
    "lenVar": 40
   },
   "kernels_config": {
    "python": {
     "delete_cmd_postfix": "",
     "delete_cmd_prefix": "del ",
     "library": "var_list.py",
     "varRefreshCmd": "print(var_dic_list())"
    },
    "r": {
     "delete_cmd_postfix": ") ",
     "delete_cmd_prefix": "rm(",
     "library": "var_list.r",
     "varRefreshCmd": "cat(var_dic_list()) "
    }
   },
   "types_to_exclude": [
    "module",
    "function",
    "builtin_function_or_method",
    "instance",
    "_Feature"
   ],
   "window_display": false
  }
 },
 "nbformat": 4,
 "nbformat_minor": 2
}
